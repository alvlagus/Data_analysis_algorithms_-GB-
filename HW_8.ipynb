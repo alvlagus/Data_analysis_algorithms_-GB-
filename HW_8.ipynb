{
 "cells": [
  {
   "cell_type": "markdown",
   "id": "0f5f9635-9c52-44e4-b85a-386677fdd728",
   "metadata": {
    "pycharm": {
     "name": "#%% md\n"
    }
   },
   "source": [
    "<h1 align='center'>Алгоритмы анализа данных</h1>"
   ]
  },
  {
   "cell_type": "markdown",
   "id": "9a1d78d5-7a22-475f-9761-bd8df116489f",
   "metadata": {
    "pycharm": {
     "name": "#%% md\n"
    }
   },
   "source": [
    "<h1 align='center'>Домашнее задание № 8</h1>"
   ]
  },
  {
   "cell_type": "markdown",
   "id": "c8c3f283-296b-4fc0-94a1-7805417831b6",
   "metadata": {
    "pycharm": {
     "name": "#%% md\n"
    }
   },
   "source": [
    "<h2 align='left'>Снижение размерности данных</h2>"
   ]
  },
  {
   "cell_type": "code",
   "execution_count": 1,
   "id": "63241490-2292-4679-84d9-5feb61e3dd0e",
   "metadata": {},
   "outputs": [],
   "source": [
    "import matplotlib.pyplot as plt\n",
    "import random\n",
    "\n",
    "from matplotlib.colors import ListedColormap\n",
    "from sklearn.datasets import make_classification\n",
    "from sklearn.model_selection import train_test_split\n",
    "from sklearn import datasets\n",
    "\n",
    "import numpy as np"
   ]
  },
  {
   "cell_type": "markdown",
   "id": "8e8accf2-8369-4128-a9e7-92a42d63ae63",
   "metadata": {
    "pycharm": {
     "name": "#%% md\n"
    },
    "tags": []
   },
   "source": [
    "# <p style=\"background-color:lightgreen;font-family:newtimeroman;color:#662e2e;font-size:130%;text-align:center;border-radius:30px 30px;\">Задача №1</p>\n",
    "\n",
    "Обучить любую модель классификации на датасете IRIS до применения самописного PCA (2 компоненты) и после него. Сравнить качество классификации по отложенной выборке."
   ]
  },
  {
   "cell_type": "markdown",
   "id": "cfacd0bd-3458-48b2-8a9c-a46579a10e9c",
   "metadata": {
    "pycharm": {
     "name": "#%% md\n"
    }
   },
   "source": [
    "__Решение:__"
   ]
  },
  {
   "cell_type": "code",
   "execution_count": 2,
   "id": "fb97d026-4ab4-443b-bcc0-17a50a28c200",
   "metadata": {},
   "outputs": [
    {
     "data": {
      "text/plain": [
       "((150, 4), (150,))"
      ]
     },
     "execution_count": 2,
     "metadata": {},
     "output_type": "execute_result"
    }
   ],
   "source": [
    "# Загрузим датасет IRIS из sklearn \n",
    "\n",
    "iris = datasets.load_iris()\n",
    "\n",
    "X = iris.data\n",
    "y = iris.target\n",
    "X.shape, y.shape"
   ]
  },
  {
   "cell_type": "code",
   "execution_count": 3,
   "id": "9b06e91b-30ab-425d-bd09-1a6ae9b860a1",
   "metadata": {},
   "outputs": [],
   "source": [
    "def standard_scale(x):\n",
    "    res = (x - x.mean(axis=0)) / x.std(axis=0)\n",
    "    return res"
   ]
  },
  {
   "cell_type": "code",
   "execution_count": 4,
   "id": "8f2e2b5c-09fc-45a3-851a-0ca3d9bc2947",
   "metadata": {},
   "outputs": [],
   "source": [
    "#iris"
   ]
  },
  {
   "cell_type": "code",
   "execution_count": 5,
   "id": "af474d02-8404-4989-b487-ec625c5994a0",
   "metadata": {
    "tags": []
   },
   "outputs": [],
   "source": [
    "# Для начала отмасштабируем выборку\n",
    "\n",
    "X = X.astype(float)\n",
    "\n",
    "X = standard_scale(X)"
   ]
  },
  {
   "cell_type": "code",
   "execution_count": 6,
   "id": "b321da76-d85a-4ffe-b068-ae6bd3f7e41a",
   "metadata": {},
   "outputs": [
    {
     "data": {
      "image/png": "[encoded data removed]",
      "text/plain": [
       "<Figure size 432x288 with 1 Axes>"
      ]
     },
     "metadata": {
      "needs_background": "light"
     },
     "output_type": "display_data"
    }
   ],
   "source": [
    "X = standard_scale(X)\n",
    "plt.scatter(X[:, 0], X[:, 1])\n",
    "plt.grid()"
   ]
  },
  {
   "cell_type": "markdown",
   "id": "ea6e797e-07f1-4187-8066-cb02670b0e9f",
   "metadata": {},
   "source": [
    "Реализуем генерацию $N$ бутстрап-выборок и подмножества признаков для нахождения разбиения в узле."
   ]
  },
  {
   "cell_type": "code",
   "execution_count": 7,
   "id": "dcb055ab-96a7-4463-8fe3-19a59ae0ddf8",
   "metadata": {},
   "outputs": [],
   "source": [
    "np.random.seed(42)\n",
    "\n",
    "def get_bootstrap(X, y, N):\n",
    "    n_samples = X.shape[0]  # размер совпадает с исходной выборкой\n",
    "    bootstrap = []\n",
    "    \n",
    "    for i in range(N):\n",
    "        \n",
    "        sample_index = np.random.randint(0, n_samples, size=n_samples)\n",
    "        b_data = X[sample_index]\n",
    "        b_labels = y[sample_index]\n",
    "        \n",
    "        bootstrap.append((b_data, b_labels))\n",
    "        \n",
    "    return bootstrap"
   ]
  },
  {
   "cell_type": "code",
   "execution_count": 8,
   "id": "53956ae1-7eed-4bb8-ba86-255487c933c3",
   "metadata": {},
   "outputs": [],
   "source": [
    "# get_bootstrap(X, y, 4)"
   ]
  },
  {
   "cell_type": "code",
   "execution_count": 9,
   "id": "ce9aeb97-f438-495a-8fd4-272ad00bab02",
   "metadata": {},
   "outputs": [],
   "source": [
    "def get_subsample(len_sample):\n",
    "    # будем сохранять не сами признаки, а их индексы\n",
    "    sample_indexes = list(range(len_sample))\n",
    "    \n",
    "    len_subsample = int(np.round(np.sqrt(len_sample)))\n",
    "    \n",
    "    subsample = np.random.choice(sample_indexes, size=len_subsample, replace=False)\n",
    "    \n",
    "    return subsample"
   ]
  },
  {
   "cell_type": "code",
   "execution_count": 10,
   "id": "b960caf4-d3bc-453d-8623-8ddd94122dac",
   "metadata": {},
   "outputs": [],
   "source": [
    "# get_subsample(5)"
   ]
  },
  {
   "cell_type": "code",
   "execution_count": 11,
   "id": "a0243688-f51a-4f81-8db0-26931fcaaab7",
   "metadata": {},
   "outputs": [],
   "source": [
    "# Реализуем класс узла\n",
    "\n",
    "class Node:\n",
    "    \n",
    "    def __init__(self, index, t, true_branch, false_branch):\n",
    "        self.index = index  # индекс признака, по которому ведется сравнение с порогом в этом узле\n",
    "        self.t = t  # значение порога\n",
    "        self.true_branch = true_branch  # поддерево, удовлетворяющее условию в узле\n",
    "        self.false_branch = false_branch  # поддерево, не удовлетворяющее условию в узле        "
   ]
  },
  {
   "cell_type": "code",
   "execution_count": 12,
   "id": "dd53225a-4cd4-41a2-8a76-2d1249f9bf73",
   "metadata": {},
   "outputs": [],
   "source": [
    "# Реализуем класс терминального узла (листа)\n",
    "\n",
    "class Leaf:\n",
    "    \n",
    "    def __init__(self, data, labels):\n",
    "        self.data = data\n",
    "        self.labels = labels\n",
    "        self.prediction = self.predict()\n",
    "        \n",
    "    def predict(self):\n",
    "        # подсчет количества объектов разных классов\n",
    "        classes = {}  # сформируем словарь \"класс: количество объектов\"\n",
    "        for label in self.labels:\n",
    "            if label not in classes:\n",
    "                classes[label] = 0\n",
    "            classes[label] += 1\n",
    "            \n",
    "        prediction = max(classes, key=classes.get)\n",
    "        return prediction"
   ]
  },
  {
   "cell_type": "code",
   "execution_count": 13,
   "id": "d98c0dba-4598-4efa-91d3-0c59d54cefe6",
   "metadata": {},
   "outputs": [],
   "source": [
    "# Расчет критерия Джини\n",
    "\n",
    "def gini(labels):\n",
    "    #  подсчет количества объектов разных классов\n",
    "    classes = {}\n",
    "    for label in labels:\n",
    "        if label not in classes:\n",
    "            classes[label] = 0\n",
    "        classes[label] += 1\n",
    "               \n",
    "    #  расчет критерия\n",
    "    impurity = 1\n",
    "    for label in classes:\n",
    "        p = classes[label] / len(labels)\n",
    "        impurity -= p ** 2\n",
    "    return impurity"
   ]
  },
  {
   "cell_type": "code",
   "execution_count": 14,
   "id": "3f8e4ca8-eb75-48f4-8ae0-3ea4ca586f4b",
   "metadata": {},
   "outputs": [],
   "source": [
    "# Расчет прироста\n",
    "\n",
    "def gain(left_labels, right_labels, root_criterion, criterion):\n",
    "    \n",
    "    # доля выборки, ушедшая в левое поддерево\n",
    "    p = float(left_labels.shape[0]) / (left_labels.shape[0] + right_labels.shape[0])\n",
    "    \n",
    "    return root_criterion - p * criterion(left_labels) - (1 - p) * criterion(right_labels)"
   ]
  },
  {
   "cell_type": "code",
   "execution_count": 15,
   "id": "47a82bf2-7796-4565-ba5d-56b5c53eda3b",
   "metadata": {},
   "outputs": [],
   "source": [
    "# Разбиение датасета в узле\n",
    "\n",
    "def split(data, labels, column_index, t):\n",
    "    \n",
    "    left = np.where(data[:, column_index] <= t)\n",
    "    right = np.where(data[:, column_index] > t)\n",
    "    \n",
    "    true_data = data[left]\n",
    "    false_data = data[right]\n",
    "    \n",
    "    true_labels = labels[left]\n",
    "    false_labels = labels[right]\n",
    "    \n",
    "    return true_data, false_data, true_labels, false_labels"
   ]
  },
  {
   "cell_type": "code",
   "execution_count": 16,
   "id": "e93c8f4a-a400-4407-b3b2-92dc7fd741af",
   "metadata": {},
   "outputs": [],
   "source": [
    "# Нахождение наилучшего разбиения\n",
    "\n",
    "def find_best_split(data, labels):\n",
    "    \n",
    "       #  обозначим минимальное количество объектов в узле\n",
    "#     min_leaf_samples = 5\n",
    "    \n",
    "    root_gini = gini(labels)\n",
    "    \n",
    "    best_gain = 0\n",
    "    best_t = None\n",
    "    best_index = None\n",
    "    \n",
    "    n_features = data.shape[1]\n",
    "    \n",
    "    feature_subsample_indices = get_subsample(n_features)  # выбираем случайные признаки\n",
    "    \n",
    "    for index in feature_subsample_indices:\n",
    "        # будем проверять только уникальные значения признака, исключая повторения\n",
    "        t_values = np.unique(data[:, index])\n",
    "        \n",
    "        for t in t_values:\n",
    "            true_data, false_data, true_labels, false_labels = split(data, labels, index, t)\n",
    "            \n",
    "            #  пропускаем разбиения, в которых в узле остается менее 5 объектов\n",
    " #             if len(true_data) < min_leaf_samples or len(false_data) < min_leaf_samples:\n",
    "#                 continue\n",
    "\n",
    "            current_gain = gain(true_labels, false_labels, root_gini, gini)\n",
    "    \n",
    "            #  выбираем порог, на котором получается максимальный прирост качества    \n",
    "            if current_gain > best_gain:\n",
    "                best_gain, best_t, best_index = current_gain, t, index\n",
    "                \n",
    "    return best_gain, best_t, best_index    "
   ]
  },
  {
   "cell_type": "code",
   "execution_count": 17,
   "id": "9d9eb944-21c3-4f9e-8e51-c22562a6a462",
   "metadata": {},
   "outputs": [],
   "source": [
    "# Построение дерева с помощью рекурсивной функции\n",
    "\n",
    "def build_tree(data, labels):\n",
    "    gain, t, index = find_best_split(data, labels)\n",
    "    \n",
    "    #  Базовый случай - прекращаем рекурсию, когда нет прироста в качества\n",
    "    if gain == 0:\n",
    "        return Leaf(data, labels)\n",
    "    \n",
    "    true_data, false_data, true_labels, false_labels = split(data, labels, index, t)\n",
    "    \n",
    "    # Рекурсивно строим два поддерева\n",
    "    true_branch = build_tree(true_data, true_labels)\n",
    "    false_branch = build_tree(false_data, false_labels)\n",
    "    \n",
    "    # Возвращаем класс узла со всеми поддеревьями, то есть целого дерева\n",
    "    return Node(index, t, true_branch, false_branch)"
   ]
  },
  {
   "cell_type": "markdown",
   "id": "32bd4609-80e3-4842-8264-0370fda0862d",
   "metadata": {},
   "source": [
    "Добавим функцию формирования случайного леса."
   ]
  },
  {
   "cell_type": "code",
   "execution_count": 18,
   "id": "2cc37d7f-fcfb-4edb-95fa-9f37664b4186",
   "metadata": {},
   "outputs": [],
   "source": [
    "def random_forest(data, labels, n_trees):\n",
    "    forest = []\n",
    "    bootstrap = get_bootstrap(data, labels, n_trees)\n",
    "    \n",
    "    for b_data, b_labels in bootstrap:\n",
    "        forest.append(build_tree(b_data, b_labels))\n",
    "        \n",
    "    return forest"
   ]
  },
  {
   "cell_type": "code",
   "execution_count": 19,
   "id": "37d283a4-1b4c-4440-aadc-2060348beccc",
   "metadata": {},
   "outputs": [],
   "source": [
    "# Функция классификации отдельного объекта\n",
    "\n",
    "def classify_object(obj, node):\n",
    "    \n",
    "    #  Останавливаем рекурсию, если достигли листа\n",
    "    if isinstance(node, Leaf):\n",
    "        answer = node.prediction\n",
    "        return answer\n",
    "    \n",
    "    if obj[node.index] <= node.t:\n",
    "        return classify_object(obj, node.true_branch)\n",
    "    else:\n",
    "        return classify_object(obj, node.false_branch)"
   ]
  },
  {
   "cell_type": "code",
   "execution_count": 20,
   "id": "352656b6-2167-4e0a-a574-48f49fcd2c03",
   "metadata": {},
   "outputs": [],
   "source": [
    "# функция формирования предсказания по выборке на одном дереве\n",
    "\n",
    "def predict(data, tree):\n",
    "    \n",
    "    classes = []\n",
    "    for obj in data:\n",
    "        prediction = classify_object(obj, tree)\n",
    "        classes.append(prediction)\n",
    "    return classes"
   ]
  },
  {
   "cell_type": "code",
   "execution_count": 21,
   "id": "7cf2c52a-211c-449b-b60c-a777bf691ef2",
   "metadata": {},
   "outputs": [],
   "source": [
    "# предсказание голосованием деревьев\n",
    "\n",
    "def tree_vote(forest, data):\n",
    "    \n",
    "    # добавим предсказания всех деревьев в список\n",
    "    predictions = []\n",
    "    for tree in forest:\n",
    "        predictions.append(predict(data, tree))\n",
    "        # print(predictions)\n",
    "        \n",
    "        # сформируем список с предсказаниями для каждого объекта\n",
    "        predictions_per_object = list(zip(*predictions))\n",
    "        # print(predictions_per_object)\n",
    "        \n",
    "        # выберем в качестве итогового предсказания для каждого объекта то,\n",
    "        # за которое проголосовало большинство деревьев\n",
    "        voted_predictions = []\n",
    "        for obj in predictions_per_object:\n",
    "            voted_predictions.append(max(set(obj), key=obj.count))\n",
    "        \n",
    "        return voted_predictions"
   ]
  },
  {
   "cell_type": "code",
   "execution_count": 22,
   "id": "ff144f9a-b577-4dc6-bb91-6dff1122f818",
   "metadata": {},
   "outputs": [],
   "source": [
    "# Разобьем выборку на обучающую и тестовую\n",
    "\n",
    "train_data, test_data, train_labels, test_labels = train_test_split(X, y,\n",
    "                                                                   test_size = 0.3,\n",
    "                                                                   random_state = 42)"
   ]
  },
  {
   "cell_type": "code",
   "execution_count": 23,
   "id": "41acc9a9-43e4-4f03-b1a8-7b05c7daad31",
   "metadata": {},
   "outputs": [],
   "source": [
    "# Введем функцию подсчета точности как доли правильных ответов\n",
    "\n",
    "def accuracy_metric(actual, predicted):\n",
    "    correct = 0\n",
    "    for i in range(len(actual)):\n",
    "        if actual[i] == predicted[i]:\n",
    "            correct += 1\n",
    "    return correct / float(len(actual)) * 100.0"
   ]
  },
  {
   "cell_type": "code",
   "execution_count": 24,
   "id": "f9b493cf-c219-4a07-89e9-98d9560b5690",
   "metadata": {},
   "outputs": [
    {
     "name": "stdout",
     "output_type": "stream",
     "text": [
      "CPU times: user 124 ms, sys: 0 ns, total: 124 ms\n",
      "Wall time: 123 ms\n"
     ]
    }
   ],
   "source": [
    "%%time\n",
    "n_trees = 20\n",
    "my_forest = random_forest(train_data, train_labels, n_trees)"
   ]
  },
  {
   "cell_type": "code",
   "execution_count": 25,
   "id": "0bd99215-63df-460a-9e2c-d89bd47f3341",
   "metadata": {},
   "outputs": [],
   "source": [
    "# Получим ответы для обучающей выборки \n",
    "train_answers = tree_vote(my_forest, train_data)\n",
    "# И получим ответы для тестовой выборки\n",
    "test_answer = tree_vote(my_forest, test_data)"
   ]
  },
  {
   "cell_type": "code",
   "execution_count": 26,
   "id": "87948b35-d756-4ec8-81fa-dfa5915daaa4",
   "metadata": {},
   "outputs": [
    {
     "name": "stdout",
     "output_type": "stream",
     "text": [
      "Точность случайного леса из 20 деревьев на обучающей выборке: 94.286\n",
      "Точность случайного леса из 20 деревьев на тестовой выборке: 91.111\n"
     ]
    }
   ],
   "source": [
    "# Точность на обучающей выборке\n",
    "train_accuracy = accuracy_metric(train_labels, train_answers)\n",
    "print(f'Точность случайного леса из {n_trees} деревьев на обучающей выборке: {train_accuracy:.3f}')\n",
    "\n",
    "# Точность на тестовой выборке\n",
    "test_accuracy = accuracy_metric(test_labels, test_answer)\n",
    "print(f'Точность случайного леса из {n_trees} деревьев на тестовой выборке: {test_accuracy:.3f}')"
   ]
  },
  {
   "cell_type": "markdown",
   "id": "6f4d6050-6c86-404f-9b45-dd9c90e90df0",
   "metadata": {},
   "source": [
    "Применем PCA"
   ]
  },
  {
   "cell_type": "code",
   "execution_count": 27,
   "id": "0b88aad3-85e4-4aee-93ce-28583dd96769",
   "metadata": {},
   "outputs": [
    {
     "name": "stdout",
     "output_type": "stream",
     "text": [
      "Собственные значения и собственные векторы в порядке убывания:\n",
      "(437.7746724797991, array([ 0.52106591, -0.26934744,  0.5804131 ,  0.56485654]))\n",
      "(137.10457072021094, array([-0.37741762, -0.92329566, -0.02449161, -0.06694199]))\n",
      "(22.013531335697216, array([-0.71956635,  0.24438178,  0.14212637,  0.63427274]))\n",
      "(3.1072254642928576, array([ 0.26128628, -0.12350962, -0.80144925,  0.52359713]))\n"
     ]
    }
   ],
   "source": [
    "# Найдем собственные векторы и собственные значения\n",
    " \n",
    "covariance_matrix = X.T @ X\n",
    "\n",
    "eig_values, eig_vectors = np.linalg.eig(covariance_matrix)\n",
    "\n",
    "# сформируем список кортежей (собственное значение, собственный вектор)\n",
    "eig_pairs = [(np.abs(eig_values[i]), eig_vectors[:, i]) for i in range(len(eig_values))]\n",
    "\n",
    "# и отсортируем список по убыванию собственных значений\n",
    "eig_pairs.sort(key=lambda x: x[0], reverse=True)\n",
    "\n",
    "print('Собственные значения и собственные векторы в порядке убывания:')\n",
    "for i in eig_pairs:\n",
    "    print(i)"
   ]
  },
  {
   "cell_type": "code",
   "execution_count": 28,
   "id": "60d2777d-562d-4136-86bf-9fdce49dff61",
   "metadata": {},
   "outputs": [
    {
     "name": "stdout",
     "output_type": "stream",
     "text": [
      "Доля дисперсии, описываемая каждой из компонент \n",
      "[72.96244541329985, 22.850761786701824, 3.6689218892828697, 0.5178709107154763]\n",
      "Кумулятивная доля дисперсии по компонентам \n",
      "[ 72.96244541  95.8132072   99.48212909 100.        ]\n"
     ]
    }
   ],
   "source": [
    "eig_sum = sum(eig_values)\n",
    "var_exp = [(i / eig_sum) * 100 for i in sorted(eig_values, reverse=True)]\n",
    "cum_var_exp = np.cumsum(var_exp)\n",
    "print(f'Доля дисперсии, описываемая каждой из компонент \\n{var_exp}')\n",
    "\n",
    "# а теперь оценим кумулятивную (то есть накапливаемую) дисперсию при учитывании каждой из компонент\n",
    "print(f'Кумулятивная доля дисперсии по компонентам \\n{cum_var_exp}')"
   ]
  },
  {
   "cell_type": "markdown",
   "id": "aaf12d66-7c4d-4ae0-9e51-606bf9a04c86",
   "metadata": {},
   "source": [
    "Таким образом, первая главная компонента описывает почти 73% информации, а первые две в сумме - 95.8%. В то же время последняя компонента описывает всего 0.5% и может быть отброжена без страха значительных потерь в качестве нашего анализа. Мы отбросим последние две компоненты, оставив первые две."
   ]
  },
  {
   "cell_type": "code",
   "execution_count": 29,
   "id": "7361ff43-8088-483f-a360-c1a22b809ed1",
   "metadata": {},
   "outputs": [
    {
     "name": "stdout",
     "output_type": "stream",
     "text": [
      "Матрица весов W:\n",
      " [[ 0.52106591 -0.37741762]\n",
      " [-0.26934744 -0.92329566]\n",
      " [ 0.5804131  -0.02449161]\n",
      " [ 0.56485654 -0.06694199]]\n"
     ]
    }
   ],
   "source": [
    "# Сформируем вектор весов из собственных векторов, соответствующих первым двум главным компонентам\n",
    "W = np.hstack([eig_pairs[i][1].reshape(4,1) for i in range(2)])\n",
    "\n",
    "print(f'Матрица весов W:\\n', W)"
   ]
  },
  {
   "cell_type": "code",
   "execution_count": 30,
   "id": "9d526e76-781c-462e-9518-2111108df5d9",
   "metadata": {},
   "outputs": [],
   "source": [
    "# Сформируем новую матрицу \"объекты-признаки\"\n",
    "Z = X.dot(W)"
   ]
  },
  {
   "cell_type": "code",
   "execution_count": 31,
   "id": "fd1dd091-7ecb-4225-a1e1-dc343952213f",
   "metadata": {},
   "outputs": [
    {
     "data": {
      "text/plain": [
       "array([[-2.26470281, -0.4800266 ],\n",
       "       [-2.08096115,  0.67413356],\n",
       "       [-2.36422905,  0.34190802],\n",
       "       [-2.29938422,  0.59739451],\n",
       "       [-2.38984217, -0.64683538],\n",
       "       [-2.07563095, -1.48917752],\n",
       "       [-2.44402884, -0.0476442 ],\n",
       "       [-2.23284716, -0.22314807],\n",
       "       [-2.33464048,  1.11532768],\n",
       "       [-2.18432817,  0.46901356]])"
      ]
     },
     "execution_count": 31,
     "metadata": {},
     "output_type": "execute_result"
    }
   ],
   "source": [
    "Z[:10]"
   ]
  },
  {
   "cell_type": "code",
   "execution_count": 32,
   "id": "c0e9c5cd-9b2f-467f-8c73-ece9426ad6b3",
   "metadata": {},
   "outputs": [
    {
     "data": {
      "image/png": "[encoded data removed]",
      "text/plain": [
       "<Figure size 432x288 with 1 Axes>"
      ]
     },
     "metadata": {
      "needs_background": "light"
     },
     "output_type": "display_data"
    }
   ],
   "source": [
    "plt.figure()\n",
    "y = iris.target\n",
    "for c, i in zip(\"rgb\", [0, 1, 2]):\n",
    "    plt.scatter(Z[y == i, 0], Z[y == i, 1], c=c)\n",
    "plt.xlabel('Главная компонента 1')\n",
    "plt.ylabel('Главная компонента 2')\n",
    "plt.title('PCA датасета IRIS')\n",
    "plt.show()"
   ]
  },
  {
   "cell_type": "code",
   "execution_count": 33,
   "id": "78780ae0-8bcc-42fa-b35b-4ae9f11a46c9",
   "metadata": {},
   "outputs": [],
   "source": [
    "# # Разобьем выборку на обучающую и тестовую\n",
    "\n",
    "# train_data, test_data, train_labels, test_labels = train_test_split(Z, y,\n",
    "#                                                                    test_size = 0.3,\n",
    "#                                                                    random_state = 42)"
   ]
  },
  {
   "cell_type": "code",
   "execution_count": 34,
   "id": "4846588e-883e-40e8-b661-dfd48208ad1e",
   "metadata": {},
   "outputs": [],
   "source": [
    "# Разобьем выборку на обучающую и тестовую, оставив y без изменения\n",
    "\n",
    "train_data, test_data = train_test_split(Z,\n",
    "                                        test_size = 0.3,\n",
    "                                        random_state = 42)"
   ]
  },
  {
   "cell_type": "code",
   "execution_count": 35,
   "id": "85621511-e965-40f0-bb2b-6e77a13d6c81",
   "metadata": {},
   "outputs": [
    {
     "name": "stdout",
     "output_type": "stream",
     "text": [
      "CPU times: user 176 ms, sys: 0 ns, total: 176 ms\n",
      "Wall time: 175 ms\n"
     ]
    }
   ],
   "source": [
    "%%time\n",
    "# n_trees = 20\n",
    "my_forest_pca = random_forest(train_data, train_labels, n_trees)"
   ]
  },
  {
   "cell_type": "code",
   "execution_count": 36,
   "id": "a003414a-99aa-4dd9-a875-3ac66d8f1bbe",
   "metadata": {},
   "outputs": [],
   "source": [
    "# Получим ответы для обучающей выборки \n",
    "train_answers = tree_vote(my_forest_pca, train_data)\n",
    "# И получим ответы для тестовой выборки\n",
    "test_answer = tree_vote(my_forest_pca, test_data)"
   ]
  },
  {
   "cell_type": "code",
   "execution_count": 37,
   "id": "e80f49f8-b632-4982-ab38-8da9f7b779c3",
   "metadata": {},
   "outputs": [
    {
     "name": "stdout",
     "output_type": "stream",
     "text": [
      "Точность случайного леса из 20 деревьев на обучающей выборке: 93.333\n",
      "Точность случайного леса из 20 деревьев на тестовой выборке: 84.444\n"
     ]
    }
   ],
   "source": [
    "# Точность на обучающей выборке\n",
    "train_accuracy_pca = accuracy_metric(train_labels, train_answers)\n",
    "print(f'Точность случайного леса из {n_trees} деревьев на обучающей выборке: {train_accuracy_pca:.3f}')\n",
    "\n",
    "# Точность на тестовой выборке\n",
    "test_accuracy_pca = accuracy_metric(test_labels, test_answer)\n",
    "print(f'Точность случайного леса из {n_trees} деревьев на тестовой выборке: {test_accuracy_pca:.3f}')"
   ]
  },
  {
   "cell_type": "markdown",
   "id": "09891a55-bc79-4b48-8f70-3ef2e3791ea0",
   "metadata": {},
   "source": [
    "Таким образом:"
   ]
  },
  {
   "cell_type": "code",
   "execution_count": 38,
   "id": "4ea3d975-39e0-400a-92fa-5709c46a4987",
   "metadata": {},
   "outputs": [
    {
     "name": "stdout",
     "output_type": "stream",
     "text": [
      "Точность случайного леса на обучающей выборке до PCA: 94.286\n",
      "Точность случайного леса на тестовой выборке до PCA: 91.111\n",
      "Точность случайного леса на обучающей выборке после PCA: 93.333\n",
      "Точность случайного леса на тестовой выборке после PCA: 84.444\n",
      "Точность модели снизилась на обучающей выборке на 1.010 %\n",
      "Точность модели снизилась на тестовой выборке на 7.317 %\n"
     ]
    }
   ],
   "source": [
    "print(f'Точность случайного леса на обучающей выборке до PCA: {train_accuracy:.3f}')\n",
    "print(f'Точность случайного леса на тестовой выборке до PCA: {test_accuracy:.3f}')\n",
    "print(f'Точность случайного леса на обучающей выборке после PCA: {train_accuracy_pca:.3f}')\n",
    "print(f'Точность случайного леса на тестовой выборке после PCA: {test_accuracy_pca:.3f}')\n",
    "print(f'Точность модели снизилась на обучающей выборке на {(train_accuracy - train_accuracy_pca) * 100 / train_accuracy:.3f} %')\n",
    "print(f'Точность модели снизилась на тестовой выборке на {(test_accuracy - test_accuracy_pca) * 100 / test_accuracy:.3f} %')"
   ]
  },
  {
   "cell_type": "markdown",
   "id": "f013f2bd-b24c-4e58-b2de-d0cffe1dc585",
   "metadata": {
    "pycharm": {
     "name": "#%% md\n"
    },
    "tags": []
   },
   "source": [
    "# <p style=\"background-color:lightgreen;font-family:newtimeroman;color:#662e2e;font-size:130%;text-align:center;border-radius:30px 30px;\">Задача №2</p>\n",
    "\n",
    "*Написать свою реализацию метода главных компонент с помощью сингулярного разложения с использованием функции [numpy.linalg.svd()](https://docs.scipy.org/doc/numpy/reference/generated/numpy.linalg.svd.html)"
   ]
  },
  {
   "cell_type": "code",
   "execution_count": 39,
   "id": "01b75a57-3e52-427e-9257-c6e29868a1bb",
   "metadata": {},
   "outputs": [
    {
     "data": {
      "text/plain": [
       "((150, 4), (150,))"
      ]
     },
     "execution_count": 39,
     "metadata": {},
     "output_type": "execute_result"
    }
   ],
   "source": [
    "# Загрузим датасет IRIS из sklearn \n",
    "\n",
    "iris = datasets.load_iris()\n",
    "\n",
    "X = iris.data\n",
    "y = iris.target\n",
    "X.shape, y.shape"
   ]
  },
  {
   "cell_type": "code",
   "execution_count": 40,
   "id": "251af217-2d31-4411-b9b2-77ec6fb22835",
   "metadata": {},
   "outputs": [],
   "source": [
    "# Для начала отмасштабируем выборку\n",
    "\n",
    "X = X.astype(float)\n",
    "\n",
    "X_scaled = standard_scale(X)"
   ]
  },
  {
   "cell_type": "markdown",
   "id": "5570152b-8dd3-47d5-9533-9f0cc3bcde2b",
   "metadata": {},
   "source": [
    "Сингулярное разложение $X^TX$"
   ]
  },
  {
   "cell_type": "code",
   "execution_count": 41,
   "id": "c8227218-b37f-4586-a0a6-a35a2eb4a8f6",
   "metadata": {},
   "outputs": [],
   "source": [
    "U, D, V = np.linalg.svd(X_scaled)"
   ]
  },
  {
   "cell_type": "code",
   "execution_count": 42,
   "id": "81d5dd8e-ceff-41ee-8195-4862f1deb908",
   "metadata": {},
   "outputs": [
    {
     "data": {
      "text/plain": [
       "((150, 150), (4,), (4, 4))"
      ]
     },
     "execution_count": 42,
     "metadata": {},
     "output_type": "execute_result"
    }
   ],
   "source": [
    "U.shape, D.shape, V.shape"
   ]
  },
  {
   "cell_type": "markdown",
   "id": "384cf181-86ef-493e-832d-42880d0393a5",
   "metadata": {},
   "source": [
    "Оценим долю дисперсии, которая описывается найденными компонентами."
   ]
  },
  {
   "cell_type": "code",
   "execution_count": 43,
   "id": "0d418107-96cb-4fc1-a145-66b4dbfaf9ec",
   "metadata": {},
   "outputs": [
    {
     "name": "stdout",
     "output_type": "stream",
     "text": [
      "Доля дисперсии, описываемая каждой из компонент \n",
      "[53.52971788236241, 29.95681278402008, 12.00368241720948, 4.509786916408033]\n",
      "Кумулятивная доля дисперсии по компонентам \n",
      "[ 53.52971788  83.48653067  95.49021308 100.        ]\n"
     ]
    }
   ],
   "source": [
    "eig_sum = sum(D)\n",
    "var_exp = [(i / eig_sum) * 100 for i in D]\n",
    "cum_var_exp = np.cumsum(var_exp)\n",
    "print(f'Доля дисперсии, описываемая каждой из компонент \\n{var_exp}')\n",
    "\n",
    "# а теперь оценим кумулятивную (то есть накапливаемую) дисперсию при учитывании каждой из компонент\n",
    "print(f'Кумулятивная доля дисперсии по компонентам \\n{cum_var_exp}')"
   ]
  },
  {
   "cell_type": "markdown",
   "id": "a75f1551-7243-418e-8b08-3b97e555e657",
   "metadata": {},
   "source": [
    "Сформируем из столбцов матрицы $V$, соответствующих $d$ наибольшим сингулярным числам, матрицу весов $W$"
   ]
  },
  {
   "cell_type": "code",
   "execution_count": 44,
   "id": "f091dbee-b159-4cc9-87e9-52b850d45fa2",
   "metadata": {},
   "outputs": [
    {
     "data": {
      "text/plain": [
       "array([[ 0.52106591, -0.26934744,  0.5804131 ],\n",
       "       [-0.37741762, -0.92329566, -0.02449161],\n",
       "       [ 0.71956635, -0.24438178, -0.14212637],\n",
       "       [ 0.26128628, -0.12350962, -0.80144925]])"
      ]
     },
     "execution_count": 44,
     "metadata": {},
     "output_type": "execute_result"
    }
   ],
   "source": [
    "W = V[:, :3]\n",
    "W"
   ]
  },
  {
   "cell_type": "markdown",
   "id": "baade740-1c9b-4bbf-8d2c-b940699c1737",
   "metadata": {},
   "source": [
    "Новая матрица \"объекты-признаки\""
   ]
  },
  {
   "cell_type": "code",
   "execution_count": 45,
   "id": "6f465418-7e1b-430b-8193-1af9eb0032ea",
   "metadata": {},
   "outputs": [
    {
     "data": {
      "text/plain": [
       "array([[ 2.39612466, -4.97204318,  2.51511939],\n",
       "       [ 2.48062028, -4.45652586,  2.41128258],\n",
       "       [ 2.22896694, -4.56287733,  2.30451427],\n",
       "       [ 2.35851538, -4.49248937,  2.22049685],\n",
       "       [ 2.30627631, -5.037438  ,  2.45462892],\n",
       "       [ 2.66960455, -5.52018213,  2.47651892],\n",
       "       [ 2.19946209, -4.75739086,  2.14721708],\n",
       "       [ 2.45371647, -4.87721705,  2.4453146 ],\n",
       "       [ 2.25782909, -4.22952257,  2.12352519],\n",
       "       [ 2.48870653, -4.56094264,  2.4747657 ],\n",
       "       [ 2.54891755, -5.26194472,  2.67013236],\n",
       "       [ 2.42145992, -4.84778574,  2.31501935],\n",
       "       [ 2.40238507, -4.41724016,  2.43338619],\n",
       "       [ 1.9259822 , -4.2092519 ,  2.18581755],\n",
       "       [ 2.42824872, -5.57335786,  2.93758803],\n",
       "       [ 2.49330225, -6.01375784,  2.66682231],\n",
       "       [ 2.38177801, -5.42242942,  2.53336946],\n",
       "       [ 2.42225329, -4.98439414,  2.43497447],\n",
       "       [ 2.83753746, -5.49630584,  2.73323693],\n",
       "       [ 2.38098464, -5.28582102,  2.41341435],\n",
       "       [ 2.8060561 , -5.03383238,  2.64905457],\n",
       "       [ 2.44485503, -5.20584241,  2.33571858],\n",
       "       [ 1.8100234 , -4.83194631,  2.27931423],\n",
       "       [ 2.76586397, -4.89775147,  2.23694503],\n",
       "       [ 2.63732982, -4.92110027,  2.27238144],\n",
       "       [ 2.67664015, -4.53233696,  2.44089861],\n",
       "       [ 2.57793036, -4.92635715,  2.27081212],\n",
       "       [ 2.52018789, -5.0234161 ,  2.55894806],\n",
       "       [ 2.48597301, -4.90664836,  2.57560986],\n",
       "       [ 2.44483685, -4.63619186,  2.26187636],\n",
       "       [ 2.5346852 , -4.57079704,  2.32236683],\n",
       "       [ 2.71440009, -5.00965795,  2.51718999],\n",
       "       [ 2.26760869, -5.56504254,  2.62439802],\n",
       "       [ 2.3403587 , -5.72608912,  2.7301405 ],\n",
       "       [ 2.51483516, -4.57329361,  2.39462078],\n",
       "       [ 2.31333008, -4.61924338,  2.49285084],\n",
       "       [ 2.53259439, -5.05534398,  2.76149727],\n",
       "       [ 2.22804109, -4.9981523 ,  2.47673253],\n",
       "       [ 2.14813069, -4.29741396,  2.13528866],\n",
       "       [ 2.50582306, -4.90415179,  2.50335591],\n",
       "       [ 2.29819006, -4.93302122,  2.39114579],\n",
       "       [ 2.49055824, -3.69039271,  2.13032918],\n",
       "       [ 2.07264717, -4.48207309,  2.13039034],\n",
       "       [ 2.59244585, -5.04338864,  2.10807311],\n",
       "       [ 2.69493981, -5.39592469,  2.27641887],\n",
       "       [ 2.45464232, -4.44194208,  2.27309634],\n",
       "       [ 2.42681265, -5.29790823,  2.47934663],\n",
       "       [ 2.24881699, -4.56038076,  2.23226033],\n",
       "       [ 2.49681096, -5.23500998,  2.61209105],\n",
       "       [ 2.41950159, -4.7604493 ,  2.4619764 ],\n",
       "       [ 6.18748768, -6.16148604,  2.19449564],\n",
       "       [ 5.75706349, -5.96335218,  1.79452813],\n",
       "       [ 6.34316475, -6.10344905,  2.03033329],\n",
       "       [ 5.21573959, -4.74308057,  1.52555183],\n",
       "       [ 6.03209376, -5.64540684,  1.84815345],\n",
       "       [ 5.49102714, -5.38078878,  1.55832546],\n",
       "       [ 5.83725704, -6.08997432,  1.62546746],\n",
       "       [ 4.28327595, -4.46568154,  1.51477804],\n",
       "       [ 5.99420134, -5.73996922,  2.06403545],\n",
       "       [ 4.86262476, -5.01950739,  1.27569897],\n",
       "       [ 4.63026286, -4.17217438,  1.55419072],\n",
       "       [ 5.35614415, -5.57070479,  1.55185782],\n",
       "       [ 5.43562842, -4.74837184,  2.05864231],\n",
       "       [ 5.83175364, -5.64208464,  1.67947134],\n",
       "       [ 4.75356907, -5.22624   ,  1.62574872],\n",
       "       [ 5.85303976, -5.91503771,  2.06545878],\n",
       "       [ 5.41569428, -5.56321509,  1.33509598],\n",
       "       [ 5.21466307, -5.18058836,  1.91610125],\n",
       "       [ 6.03026792, -4.98618703,  1.70293712],\n",
       "       [ 5.06814877, -4.90553435,  1.7531973 ],\n",
       "       [ 5.79078632, -5.93904588,  1.2212489 ],\n",
       "       [ 5.33967033, -5.36633687,  1.86155388],\n",
       "       [ 6.25697577, -5.38786319,  1.6967804 ],\n",
       "       [ 5.81723815, -5.52505315,  1.84221035],\n",
       "       [ 5.67411825, -5.6127852 ,  1.99059074],\n",
       "       [ 5.83867493, -5.7957734 ,  2.00986664],\n",
       "       [ 6.30619818, -5.76273646,  2.07399703],\n",
       "       [ 6.40090722, -6.00639009,  1.74219735],\n",
       "       [ 5.66186241, -5.5786245 ,  1.56971038],\n",
       "       [ 4.76855843, -4.91469498,  1.94578492],\n",
       "       [ 4.9818273 , -4.76183186,  1.71181779],\n",
       "       [ 4.88374204, -4.72504272,  1.80617535],\n",
       "       [ 5.12300705, -5.15641393,  1.78423668],\n",
       "       [ 6.19521437, -5.5529454 ,  1.40918795],\n",
       "       [ 5.3114811 , -5.50934561,  1.21901336],\n",
       "       [ 5.49928223, -6.0526233 ,  1.47731965],\n",
       "       [ 6.0950383 , -6.0007032 ,  1.94267595],\n",
       "       [ 5.92041886, -5.05631124,  1.93303176],\n",
       "       [ 5.07561049, -5.44076046,  1.55223637],\n",
       "       [ 5.14025607, -4.92773971,  1.52065351],\n",
       "       [ 5.36421222, -5.10547102,  1.54149872],\n",
       "       [ 5.72205525, -5.70997603,  1.69123481],\n",
       "       [ 5.23270545, -5.08852254,  1.7724732 ],\n",
       "       [ 4.3731243 , -4.40028672,  1.57526851],\n",
       "       [ 5.26079241, -5.18820994,  1.54537122],\n",
       "       [ 5.17354508, -5.47978242,  1.67620997],\n",
       "       [ 5.23741547, -5.39980381,  1.59851421],\n",
       "       [ 5.56990507, -5.55891571,  1.87450812],\n",
       "       [ 4.16000609, -4.55091703,  1.59090449],\n",
       "       [ 5.2032006 , -5.28303607,  1.61517601],\n",
       "       [ 7.00785095, -6.51882929,  0.71939886],\n",
       "       [ 6.16938707, -5.5361288 ,  1.05267056],\n",
       "       [ 7.36145782, -6.38347652,  1.52586916],\n",
       "       [ 6.68809106, -5.96530158,  1.34706053],\n",
       "       [ 7.00299026, -6.20978084,  1.11168901],\n",
       "       [ 8.12568722, -6.68921749,  1.71658725],\n",
       "       [ 5.29191421, -4.93772598,  0.78076277],\n",
       "       [ 7.71285342, -6.40571627,  1.82798516],\n",
       "       [ 7.19139774, -5.75259865,  1.56059713],\n",
       "       [ 7.43554162, -7.06266886,  1.22021053],\n",
       "       [ 6.37155303, -6.1986708 ,  1.366569  ],\n",
       "       [ 6.62593989, -5.74661362,  1.37249314],\n",
       "       [ 6.9173115 , -6.20491958,  1.40859578],\n",
       "       [ 6.146936  , -5.31244771,  0.93359528],\n",
       "       [ 6.26228845, -5.69021318,  0.64949678],\n",
       "       [ 6.5417456 , -6.2576653 ,  1.03966764],\n",
       "       [ 6.68260584, -6.08706246,  1.47490662],\n",
       "       [ 7.97394498, -7.4915779 ,  1.66067771],\n",
       "       [ 8.59688802, -6.44485043,  1.58149744],\n",
       "       [ 6.28583792, -5.05450843,  1.51579132],\n",
       "       [ 7.0901051 , -6.49009173,  1.27302364],\n",
       "       [ 5.90964749, -5.53806348,  0.88241913],\n",
       "       [ 8.29910534, -6.54358032,  1.84545916],\n",
       "       [ 6.25987813, -5.6095752 ,  1.45144731],\n",
       "       [ 6.8958929 , -6.50384989,  1.31478171],\n",
       "       [ 7.33165164, -6.58245569,  1.80523428],\n",
       "       [ 6.09807314, -5.65053185,  1.40516947],\n",
       "       [ 6.04243966, -5.83269441,  1.3280172 ],\n",
       "       [ 6.85632529, -5.93695965,  1.16711622],\n",
       "       [ 7.21096463, -6.32421828,  1.99884773],\n",
       "       [ 7.68491713, -6.30379605,  1.83675598],\n",
       "       [ 7.810031  , -7.44743093,  1.97968809],\n",
       "       [ 6.88245392, -5.94931061,  1.0869713 ],\n",
       "       [ 6.28766376, -5.71372824,  1.66100764],\n",
       "       [ 6.59258865, -5.58503955,  1.55890509],\n",
       "       [ 7.87026789, -6.61866327,  1.68540189],\n",
       "       [ 6.65615402, -6.50105518,  0.85394517],\n",
       "       [ 6.59275749, -6.15245728,  1.41441615],\n",
       "       [ 5.91837644, -5.78132149,  1.28418853],\n",
       "       [ 6.8597197 , -6.29974571,  1.47840056],\n",
       "       [ 6.97780567, -6.33180546,  1.09345789],\n",
       "       [ 6.69610705, -6.2511331 ,  1.36074862],\n",
       "       [ 6.16938707, -5.5361288 ,  1.05267056],\n",
       "       [ 7.18191177, -6.51203334,  1.18655706],\n",
       "       [ 7.00040741, -6.55325373,  0.99420201],\n",
       "       [ 6.70159226, -6.12937222,  1.23290253],\n",
       "       [ 6.43344692, -5.46170521,  1.36198807],\n",
       "       [ 6.51899319, -6.03844985,  1.35725468],\n",
       "       [ 6.43400553, -6.41289312,  0.90447406],\n",
       "       [ 6.08213975, -5.82770128,  1.18350931]])"
      ]
     },
     "execution_count": 45,
     "metadata": {},
     "output_type": "execute_result"
    }
   ],
   "source": [
    "Z = X @ W\n",
    "Z"
   ]
  },
  {
   "cell_type": "code",
   "execution_count": null,
   "id": "fb379d77-5b8b-42eb-b3d6-422e0f0f6ac5",
   "metadata": {},
   "outputs": [],
   "source": []
  }
 ],
 "metadata": {
  "kernelspec": {
   "display_name": "Python 3 (ipykernel)",
   "language": "python",
   "name": "python3"
  },
  "language_info": {
   "codemirror_mode": {
    "name": "ipython",
    "version": 3
   },
   "file_extension": ".py",
   "mimetype": "text/x-python",
   "name": "python",
   "nbconvert_exporter": "python",
   "pygments_lexer": "ipython3",
   "version": "3.9.12"
  }
 },
 "nbformat": 4,
 "nbformat_minor": 5
}
