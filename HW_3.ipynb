{
 "cells": [
  {
   "cell_type": "markdown",
   "id": "25b1f58c",
   "metadata": {
    "pycharm": {
     "name": "#%% md\n"
    }
   },
   "source": [
    "<h1 align='center'>Алгоритмы анализа данных</h1>"
   ]
  },
  {
   "cell_type": "markdown",
   "id": "80b4ee62",
   "metadata": {
    "pycharm": {
     "name": "#%% md\n"
    }
   },
   "source": [
    "<h1 align='center'>Домашнее задание № 3</h1>"
   ]
  },
  {
   "cell_type": "markdown",
   "id": "159b2a80-62e9-471c-be73-0e4760ec1dd2",
   "metadata": {
    "pycharm": {
     "name": "#%% md\n"
    }
   },
   "source": [
    "<h2 align='left'>Классификация. Логистическая регрессия</h2>"
   ]
  },
  {
   "cell_type": "code",
   "execution_count": 1,
   "id": "3f5afd23-12eb-45b3-8ff6-3af48c861406",
   "metadata": {
    "pycharm": {
     "name": "#%%\n"
    }
   },
   "outputs": [],
   "source": [
    "import numpy as np"
   ]
  },
  {
   "cell_type": "markdown",
   "id": "c66eaa1e-e108-4e6f-a0be-35ceeaa5f0bd",
   "metadata": {
    "pycharm": {
     "name": "#%% md\n"
    },
    "tags": []
   },
   "source": [
    "# <p style=\"background-color:lightgreen;font-family:newtimeroman;color:#662e2e;font-size:130%;text-align:center;border-radius:30px 30px;\">Задача 1</p>\n",
    "\n",
    "__1*.__ Измените функцию calc_logloss так, чтобы нули по возможности не попадали в np.log."
   ]
  },
  {
   "cell_type": "markdown",
   "id": "2ea0d98e",
   "metadata": {
    "pycharm": {
     "name": "#%% md\n"
    }
   },
   "source": [
    "**Решение:**"
   ]
  },
  {
   "cell_type": "code",
   "execution_count": 2,
   "id": "3aef5774-bf15-4007-8f5c-5bcb98f8c149",
   "metadata": {},
   "outputs": [],
   "source": [
    "def calc_logloss(y, y_pred):   \n",
    "    # err = - np.mean(y * np.log(y_pred) + (1.0 - y) * np.log(1.0 - y_pred))\n",
    "    # ИЗМЕНЕНИЯ\n",
    "    # добавляем условия\n",
    "    err = - np.mean(y * np.log(y_pred, where=(y_pred!=0)) + (1.0 - y) * np.log(1.0 - y_pred, where=(1-y_pred!=0)))    \n",
    "    # ИЗМЕНЕНИЯ    \n",
    "    return err"
   ]
  },
  {
   "cell_type": "code",
   "execution_count": 3,
   "id": "8c2ec7a7-c46a-4c64-9e78-1ae3bf77aadb",
   "metadata": {},
   "outputs": [
    {
     "data": {
      "text/plain": [
       "0.164252033486018"
      ]
     },
     "execution_count": 3,
     "metadata": {},
     "output_type": "execute_result"
    }
   ],
   "source": [
    "# Пример применения\n",
    "y1 = np.array([1, 0])\n",
    "y_pred1 = np.array([0.8, 0.1])\n",
    "calc_logloss(y1, y_pred1)"
   ]
  },
  {
   "cell_type": "code",
   "execution_count": 4,
   "id": "a7c3d8b9-b044-475a-b1e3-8f6d9087db5c",
   "metadata": {},
   "outputs": [
    {
     "data": {
      "text/plain": [
       "-0.28842822434289517"
      ]
     },
     "execution_count": 4,
     "metadata": {},
     "output_type": "execute_result"
    }
   ],
   "source": [
    "# Плохой пример применения\n",
    "y1 = np.array([1, 0])\n",
    "y_pred1 = np.array([0, 0.2])\n",
    "calc_logloss(y1, y_pred1)"
   ]
  },
  {
   "cell_type": "code",
   "execution_count": 5,
   "id": "394db51f-efbd-467f-b0c5-0266a294d53c",
   "metadata": {},
   "outputs": [
    {
     "data": {
      "text/plain": [
       "0.11157177565710485"
      ]
     },
     "execution_count": 5,
     "metadata": {},
     "output_type": "execute_result"
    }
   ],
   "source": [
    "# Плохой пример применения\n",
    "y1 = np.array([1, 0])\n",
    "y_pred1 = np.array([1, 0.2])\n",
    "calc_logloss(y1, y_pred1)"
   ]
  },
  {
   "cell_type": "markdown",
   "id": "de4912a3-ae24-4874-a078-0b3fdc2ea43b",
   "metadata": {
    "pycharm": {
     "name": "#%% md\n"
    },
    "tags": []
   },
   "source": [
    "# <p style=\"background-color:lightgreen;font-family:newtimeroman;color:#662e2e;font-size:130%;text-align:center;border-radius:30px 30px;\">Задача 2</p>\n",
    "\n",
    "__2.__ Подберите аргументы функции eval_model для логистической регрессии таким образом, чтобы log loss был минимальным."
   ]
  },
  {
   "cell_type": "markdown",
   "id": "bcf3755d-f827-484f-b455-79fbd204b912",
   "metadata": {
    "pycharm": {
     "name": "#%% md\n"
    }
   },
   "source": [
    "**Решение:**"
   ]
  },
  {
   "cell_type": "code",
   "execution_count": 6,
   "id": "f4541433-be4c-483a-bca7-0dfb386635b8",
   "metadata": {},
   "outputs": [],
   "source": [
    "# исходные данные\n",
    "\n",
    "X_st = np.array([[ 1.        ,  1.        , -0.97958969,  1.        ],\n",
    "                 [ 1.        ,  1.        , -0.56713087,  1.        ],\n",
    "                 [ 1.        ,  2.        , -0.46401617,  2.        ],\n",
    "                 [ 1.        ,  5.        , -0.77336028,  1.        ],\n",
    "                 [ 1.        ,  3.        ,  0.97958969,  2.        ],\n",
    "                 [ 1.        ,  0.        , -0.36090146,  1.        ],\n",
    "                 [ 1.        ,  5.        ,  1.08270439,  3.        ],\n",
    "                 [ 1.        , 10.        ,  2.11385144,  3.        ],\n",
    "                 [ 1.        ,  1.        , -1.08270439,  1.        ],\n",
    "                 [ 1.        ,  2.        ,  0.05155735,  2.        ]])\n",
    "\n",
    "y = np.array([0, 0, 1, 0, 1, 0, 1, 0, 1, 1], dtype=np.float64)\n",
    "\n",
    "def sigmoid(x):\n",
    "    return 1 / (1 + np.exp(-x))"
   ]
  },
  {
   "cell_type": "code",
   "execution_count": 7,
   "id": "635b7895-0fba-4e9e-9041-ccb63dfd940d",
   "metadata": {},
   "outputs": [],
   "source": [
    "'''\n",
    "Исходная функция:\n",
    "def eval_model(X, y, iterations, eta=1e-4):\n",
    "    np.random.seed(42)\n",
    "    W = np.random.randn(X.shape[1])\n",
    "    n = X.shape[0]\n",
    "    \n",
    "    for i in range(iterations):\n",
    "        z = np.dot(X, W)\n",
    "        y_pred = sigmoid(z)\n",
    "        err = calc_logloss(y, y_pred)\n",
    "        \n",
    "        dQ = 1/n * X.T @ (y_pred - y)\n",
    "        W -= eta * dQ\n",
    "        if i % (iterations / 10) == 0:\n",
    "            print(i, W, err)\n",
    "    return W\n",
    "\n",
    "Внес изменения в количество аргументов. Теперь они не задаются в ручную, а вшиты в саму функцию списками.\n",
    "По аналогии с заданием из первой домашки, добавил перебор по количеству итераций и скорости обучения с выводом минимального значения logloss.\n",
    "При желании, можно раскрыть промежуточные результаты, но это доооолго.\n",
    "'''\n",
    "#\n",
    "def eval_model(X, y):\n",
    "    np.random.seed(42)    \n",
    "    n = X.shape[0]\n",
    "    etas = [1e-1, 5e-2, 1e-2, 5e-3, 1e-3, 5e-4, 1e-4]\n",
    "    n_iters = [10, 100, 250, 500, 800, 1000, 5000, 50000]\n",
    "    \n",
    "    min_err = np.inf\n",
    "    best_params = {}\n",
    "    \n",
    "    for eta in etas:\n",
    "        for n_iter in n_iters:\n",
    "            W = np.random.randn(X.shape[1])\n",
    "            cur_eta = eta\n",
    "            \n",
    "            for i in range(n_iter):\n",
    "                z = np.dot(X, W)\n",
    "                y_pred = sigmoid(z)\n",
    "                err = calc_logloss(y, y_pred)\n",
    "\n",
    "                dQ = 1/n * X.T @ (y_pred - y)\n",
    "                W -= eta * dQ\n",
    "                # if i % (n_iter / 10) == 0:\n",
    "                #     print(f'Iteration #{i}: W = {W}, eta = {eta}, Logloss = {err}')\n",
    "            if err < min_err:\n",
    "                min_err = err\n",
    "                best_params = {\n",
    "                    'eta': eta,\n",
    "                    'n_iter': n_iter\n",
    "                }\n",
    "    print(f'Минимальное значение logloss {round(min_err, 5)} достигается с параметрами {best_params}')\n",
    "    return W"
   ]
  },
  {
   "cell_type": "code",
   "execution_count": 8,
   "id": "19b510d8-e60a-4106-bad9-c345e950cce7",
   "metadata": {},
   "outputs": [
    {
     "name": "stdout",
     "output_type": "stream",
     "text": [
      "Минимальное значение logloss 0.14351 достигается с параметрами {'eta': 0.1, 'n_iter': 50000}\n"
     ]
    }
   ],
   "source": [
    "# W = eval_model(X_st, y, iterations=50000, eta=0.1)\n",
    "W = eval_model(X_st, y)"
   ]
  },
  {
   "cell_type": "markdown",
   "id": "2f5b0a08-2d16-409e-961f-d160267b35f6",
   "metadata": {
    "pycharm": {
     "name": "#%% md\n"
    }
   },
   "source": [
    "# <p style=\"background-color:lightgreen;font-family:newtimeroman;color:#662e2e;font-size:130%;text-align:center;border-radius:30px 30px;\">Задача 3</p>\n",
    "\n",
    "__3.__ Создайте функцию calc_pred_proba, возвращающую предсказанную вероятность класса 1 (на вход подаются W, который уже посчитан функцией eval_model и X, на выходе - массив y_pred_proba)."
   ]
  },
  {
   "cell_type": "markdown",
   "id": "271efec1-8914-4435-9f68-3cc4bb676248",
   "metadata": {
    "pycharm": {
     "name": "#%% md\n"
    }
   },
   "source": [
    "**Решение:**"
   ]
  },
  {
   "cell_type": "code",
   "execution_count": 9,
   "id": "3bee893c-43ac-458a-8a66-e0623e41682e",
   "metadata": {},
   "outputs": [],
   "source": [
    "def calc_pred_proba(X, W):    \n",
    "    y_pred_proba = 1 / (1 + np.exp(-(np.dot(X, W))))\n",
    "    return y_pred_proba"
   ]
  },
  {
   "cell_type": "code",
   "execution_count": 10,
   "id": "e542c47d-fb1e-44f8-9cf6-d3b4c06a1b71",
   "metadata": {},
   "outputs": [
    {
     "data": {
      "text/plain": [
       "array([0.55915241, 0.68452888, 0.50903676, 0.19429942, 0.8074177 ,\n",
       "       0.82131179, 0.55297013, 0.29825929, 0.52584886, 0.66981026])"
      ]
     },
     "execution_count": 10,
     "metadata": {},
     "output_type": "execute_result"
    }
   ],
   "source": [
    "calc_pred_proba(X_st, W)"
   ]
  },
  {
   "cell_type": "markdown",
   "id": "43de0af8",
   "metadata": {
    "pycharm": {
     "name": "#%% md\n"
    }
   },
   "source": [
    "# <p style=\"background-color:lightgreen;font-family:newtimeroman;color:#662e2e;font-size:130%;text-align:center;border-radius:30px 30px;\">Задача 4</p>\n",
    "\n",
    "__4.__ Создайте функцию calc_pred, возвращающую предсказанный класс (на вход подаются W, который уже посчитан функцией eval_model и X, на выходе - массив y_pred)."
   ]
  },
  {
   "cell_type": "markdown",
   "id": "b6b4b823",
   "metadata": {
    "pycharm": {
     "name": "#%% md\n"
    }
   },
   "source": [
    "**Решение:**"
   ]
  },
  {
   "cell_type": "code",
   "execution_count": 11,
   "id": "f61c2638-3861-4360-a3fe-8f610f5ea62f",
   "metadata": {},
   "outputs": [],
   "source": [
    "def calc_pred(X, W, threshold):\n",
    "    y_pred = 1 / (1 + np.exp(-(np.dot(X, W))))\n",
    "    y_pred[y_pred < threshold] = 0\n",
    "    y_pred[y_pred >= threshold] = 1\n",
    "    \n",
    "    return y_pred"
   ]
  },
  {
   "cell_type": "code",
   "execution_count": 12,
   "id": "fe447114-dc24-4fdc-848b-d373bb5cbf4f",
   "metadata": {},
   "outputs": [
    {
     "data": {
      "text/plain": [
       "array([1., 1., 1., 0., 1., 1., 1., 0., 1., 1.])"
      ]
     },
     "execution_count": 12,
     "metadata": {},
     "output_type": "execute_result"
    }
   ],
   "source": [
    "y_pred = calc_pred(X_st, W, 0.5)\n",
    "y_pred"
   ]
  },
  {
   "cell_type": "markdown",
   "id": "e1b1a77f",
   "metadata": {
    "pycharm": {
     "name": "#%% md\n"
    }
   },
   "source": [
    "# <p style=\"background-color:lightgreen;font-family:newtimeroman;color:#662e2e;font-size:130%;text-align:center;border-radius:30px 30px;\">Задача 5</p>\n",
    "\n",
    "__5*.__ Реализуйте функции для подсчета Accuracy, матрицы ошибок, точности и полноты, а также F1 score."
   ]
  },
  {
   "cell_type": "markdown",
   "id": "cd194119",
   "metadata": {
    "pycharm": {
     "name": "#%% md\n"
    }
   },
   "source": [
    "**Решение:**"
   ]
  },
  {
   "cell_type": "code",
   "execution_count": 13,
   "id": "7c6adda0-b310-4cfa-ae35-ad538f0d5eec",
   "metadata": {},
   "outputs": [],
   "source": [
    "import pandas as pd\n",
    "from sklearn.metrics import accuracy_score\n",
    "from sklearn.metrics import confusion_matrix\n",
    "from sklearn.metrics import recall_score\n",
    "from sklearn.metrics import precision_score\n",
    "from sklearn.metrics import f1_score"
   ]
  },
  {
   "cell_type": "markdown",
   "id": "dfc02ebc-cd73-40a0-a25a-f80cb0423dd3",
   "metadata": {},
   "source": [
    "__Accuracy__"
   ]
  },
  {
   "cell_type": "code",
   "execution_count": 14,
   "id": "e1507c19-1d20-418a-a0cb-a02635ce9970",
   "metadata": {},
   "outputs": [
    {
     "data": {
      "text/plain": [
       "0.7"
      ]
     },
     "execution_count": 14,
     "metadata": {},
     "output_type": "execute_result"
    }
   ],
   "source": [
    "accuracy_score(y, y_pred)"
   ]
  },
  {
   "cell_type": "code",
   "execution_count": 15,
   "id": "1b43d66f-5cb8-459b-b387-947537f8214b",
   "metadata": {
    "tags": []
   },
   "outputs": [
    {
     "data": {
      "text/plain": [
       "True"
      ]
     },
     "execution_count": 15,
     "metadata": {},
     "output_type": "execute_result"
    }
   ],
   "source": [
    "len(y_pred) == len(y)"
   ]
  },
  {
   "cell_type": "code",
   "execution_count": 16,
   "id": "9007ed90",
   "metadata": {
    "collapsed": false,
    "jupyter": {
     "outputs_hidden": false
    },
    "pycharm": {
     "name": "#%%\n"
    }
   },
   "outputs": [
    {
     "data": {
      "text/plain": [
       "0.7"
      ]
     },
     "execution_count": 16,
     "metadata": {},
     "output_type": "execute_result"
    }
   ],
   "source": [
    "# accuracy\n",
    "\n",
    "def accuracy_(y, y_pred):\n",
    "    if len(y_pred) == len(y):               \n",
    "        true = len(y_pred[y_pred == y]) # количество раз, когда модель сделала верное предсказание\n",
    "        return true / len(y_pred)\n",
    "    else:\n",
    "        print(f'Некорректные исходные данные')\n",
    "\n",
    "accuracy_(y, y_pred)"
   ]
  },
  {
   "cell_type": "markdown",
   "id": "b8687f69-f7c2-4899-893a-9eabcb5ff64b",
   "metadata": {},
   "source": [
    "__Confusion Matrix__"
   ]
  },
  {
   "cell_type": "code",
   "execution_count": 17,
   "id": "e630a16a-672f-4936-a097-13827f516e58",
   "metadata": {
    "tags": []
   },
   "outputs": [
    {
     "data": {
      "text/plain": [
       "array([[2, 3],\n",
       "       [0, 5]])"
      ]
     },
     "execution_count": 17,
     "metadata": {},
     "output_type": "execute_result"
    }
   ],
   "source": [
    "confusion_matrix(y, y_pred)"
   ]
  },
  {
   "cell_type": "code",
   "execution_count": 18,
   "id": "9586d355-9efc-423d-a80d-7ce8a64606e9",
   "metadata": {},
   "outputs": [],
   "source": [
    "def confusion_matrix_(y, y_pred):\n",
    "    TP = len(y_pred[(y_pred == y) & (y == 1)])\n",
    "    TN = len(y_pred[(y_pred == y) & (y == 0)])\n",
    "    FP = len(y_pred[(y_pred != y) & (y == 0)])\n",
    "    FN = len(y_pred[(y_pred != y) & (y == 1)])\n",
    "    data = {'y_pred = 1': [TP, FP], 'y_pred = 0': [FN, TN]}\n",
    "    cm = pd.DataFrame.from_dict(data, orient='index', columns=['y = 1', 'y = 0'])\n",
    "    return cm    "
   ]
  },
  {
   "cell_type": "code",
   "execution_count": 19,
   "id": "20f7653b-4217-4e68-a8e1-aefb9931ff89",
   "metadata": {},
   "outputs": [
    {
     "data": {
      "text/html": [
       "<div>\n",
       "<style scoped>\n",
       "    .dataframe tbody tr th:only-of-type {\n",
       "        vertical-align: middle;\n",
       "    }\n",
       "\n",
       "    .dataframe tbody tr th {\n",
       "        vertical-align: top;\n",
       "    }\n",
       "\n",
       "    .dataframe thead th {\n",
       "        text-align: right;\n",
       "    }\n",
       "</style>\n",
       "<table border=\"1\" class=\"dataframe\">\n",
       "  <thead>\n",
       "    <tr style=\"text-align: right;\">\n",
       "      <th></th>\n",
       "      <th>y = 1</th>\n",
       "      <th>y = 0</th>\n",
       "    </tr>\n",
       "  </thead>\n",
       "  <tbody>\n",
       "    <tr>\n",
       "      <th>y_pred = 1</th>\n",
       "      <td>5</td>\n",
       "      <td>3</td>\n",
       "    </tr>\n",
       "    <tr>\n",
       "      <th>y_pred = 0</th>\n",
       "      <td>0</td>\n",
       "      <td>2</td>\n",
       "    </tr>\n",
       "  </tbody>\n",
       "</table>\n",
       "</div>"
      ],
      "text/plain": [
       "            y = 1  y = 0\n",
       "y_pred = 1      5      3\n",
       "y_pred = 0      0      2"
      ]
     },
     "execution_count": 19,
     "metadata": {},
     "output_type": "execute_result"
    }
   ],
   "source": [
    "confusion_matrix_(y, y_pred)"
   ]
  },
  {
   "cell_type": "markdown",
   "id": "cf9e0f86-43d5-4fea-bbb4-0f1914e38401",
   "metadata": {},
   "source": [
    "__Precision_score (Точность)__"
   ]
  },
  {
   "cell_type": "code",
   "execution_count": 20,
   "id": "84332b8c-1d4b-4a7f-9ca1-de0675b86dd8",
   "metadata": {},
   "outputs": [
    {
     "data": {
      "text/plain": [
       "0.625"
      ]
     },
     "execution_count": 20,
     "metadata": {},
     "output_type": "execute_result"
    }
   ],
   "source": [
    "precision_score(y, y_pred)"
   ]
  },
  {
   "cell_type": "code",
   "execution_count": 21,
   "id": "f284002d-90e0-4cab-9366-7bdaa9b5e0e3",
   "metadata": {},
   "outputs": [],
   "source": [
    "def precision_score_(y, y_pred):\n",
    "    TP = len(y_pred[(y_pred == y) & (y == 1)])\n",
    "    FP = len(y_pred[(y_pred != y) & (y == 0)])\n",
    "    ps = TP / (TP + FP)\n",
    "    return ps"
   ]
  },
  {
   "cell_type": "code",
   "execution_count": 22,
   "id": "e3f5bba0-40c3-42b7-9bef-6d6e8571d736",
   "metadata": {},
   "outputs": [
    {
     "data": {
      "text/plain": [
       "0.625"
      ]
     },
     "execution_count": 22,
     "metadata": {},
     "output_type": "execute_result"
    }
   ],
   "source": [
    "precision_score_(y, y_pred)"
   ]
  },
  {
   "cell_type": "markdown",
   "id": "52ed1aea-0abc-43fb-969c-1caea82f09e7",
   "metadata": {},
   "source": [
    "__Recall_score (Полнота)__"
   ]
  },
  {
   "cell_type": "code",
   "execution_count": 23,
   "id": "9bd8f51a-fcda-486c-889d-aa7b87aac214",
   "metadata": {},
   "outputs": [
    {
     "data": {
      "text/plain": [
       "1.0"
      ]
     },
     "execution_count": 23,
     "metadata": {},
     "output_type": "execute_result"
    }
   ],
   "source": [
    "recall_score(y, y_pred)"
   ]
  },
  {
   "cell_type": "code",
   "execution_count": 24,
   "id": "e1e9735d-f6ab-4443-8839-5ece2e152cc4",
   "metadata": {},
   "outputs": [],
   "source": [
    "def recall_score_(y, y_pred):\n",
    "    TP = len(y_pred[(y_pred == y) & (y == 1)])\n",
    "    FN = len(y_pred[(y_pred != y) & (y == 1)])\n",
    "    rs = TP / (TP + FN)\n",
    "    return rs"
   ]
  },
  {
   "cell_type": "code",
   "execution_count": 25,
   "id": "fb08a878-910a-4178-9fff-5b72b38f30f7",
   "metadata": {},
   "outputs": [
    {
     "data": {
      "text/plain": [
       "1.0"
      ]
     },
     "execution_count": 25,
     "metadata": {},
     "output_type": "execute_result"
    }
   ],
   "source": [
    "recall_score_(y, y_pred)"
   ]
  },
  {
   "cell_type": "markdown",
   "id": "041cce5b-9ade-46b4-8003-d00d279641c4",
   "metadata": {},
   "source": [
    "__F1 мера__"
   ]
  },
  {
   "cell_type": "code",
   "execution_count": 26,
   "id": "d631b512-c9d2-4728-a7d0-715fd0409bd2",
   "metadata": {},
   "outputs": [
    {
     "data": {
      "text/plain": [
       "0.7692307692307693"
      ]
     },
     "execution_count": 26,
     "metadata": {},
     "output_type": "execute_result"
    }
   ],
   "source": [
    "f1_score(y, y_pred)"
   ]
  },
  {
   "cell_type": "code",
   "execution_count": 27,
   "id": "d10985a0-ccab-4e1c-9ef8-3245d30ad26f",
   "metadata": {},
   "outputs": [],
   "source": [
    "def f1_score_(y, y_pred):\n",
    "    TP = len(y_pred[(y_pred == y) & (y == 1)])\n",
    "    FP = len(y_pred[(y_pred != y) & (y == 0)])\n",
    "    FN = len(y_pred[(y_pred != y) & (y == 1)])\n",
    "    fs = 2 * (TP / (2 * TP + FP + FN))\n",
    "    return fs\n"
   ]
  },
  {
   "cell_type": "code",
   "execution_count": 28,
   "id": "48cadede-719b-4473-9a16-a20fb95303ed",
   "metadata": {},
   "outputs": [
    {
     "data": {
      "text/plain": [
       "0.7692307692307693"
      ]
     },
     "execution_count": 28,
     "metadata": {},
     "output_type": "execute_result"
    }
   ],
   "source": [
    "f1_score_(y, y_pred)"
   ]
  },
  {
   "cell_type": "code",
   "execution_count": null,
   "id": "5cf1ae7e-bbc4-4810-8f6d-54f5508f299c",
   "metadata": {},
   "outputs": [],
   "source": []
  }
 ],
 "metadata": {
  "kernelspec": {
   "display_name": "Python 3 (ipykernel)",
   "language": "python",
   "name": "python3"
  },
  "language_info": {
   "codemirror_mode": {
    "name": "ipython",
    "version": 3
   },
   "file_extension": ".py",
   "mimetype": "text/x-python",
   "name": "python",
   "nbconvert_exporter": "python",
   "pygments_lexer": "ipython3",
   "version": "3.9.12"
  }
 },
 "nbformat": 4,
 "nbformat_minor": 5
}
