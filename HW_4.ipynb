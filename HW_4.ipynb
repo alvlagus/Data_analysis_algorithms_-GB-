{
 "cells": [
  {
   "cell_type": "markdown",
   "id": "0f5f9635-9c52-44e4-b85a-386677fdd728",
   "metadata": {
    "pycharm": {
     "name": "#%% md\n"
    }
   },
   "source": [
    "<h1 align='center'>Алгоритмы анализа данных</h1>"
   ]
  },
  {
   "cell_type": "markdown",
   "id": "9a1d78d5-7a22-475f-9761-bd8df116489f",
   "metadata": {
    "pycharm": {
     "name": "#%% md\n"
    }
   },
   "source": [
    "<h1 align='center'>Домашнее задание № 4</h1>"
   ]
  },
  {
   "cell_type": "markdown",
   "id": "c8c3f283-296b-4fc0-94a1-7805417831b6",
   "metadata": {
    "pycharm": {
     "name": "#%% md\n"
    }
   },
   "source": [
    "<h2 align='left'>Деревья решений</h2>"
   ]
  },
  {
   "cell_type": "markdown",
   "id": "8e8accf2-8369-4128-a9e7-92a42d63ae63",
   "metadata": {
    "pycharm": {
     "name": "#%% md\n"
    }
   },
   "source": [
    "# <p style=\"background-color:lightgreen;font-family:newtimeroman;color:#662e2e;font-size:130%;text-align:center;border-radius:30px 30px;\">Задача 1</p>\n",
    "\n",
    "__1.__ Реализуйте дерево для задачи регрессии. Возьмите за основу дерево, реализованное в методичке, заменив механизм предсказания в листе на взятие среднего значения по выборке, и критерий Джини на дисперсию значений."
   ]
  },
  {
   "cell_type": "markdown",
   "id": "cfacd0bd-3458-48b2-8a9c-a46579a10e9c",
   "metadata": {
    "pycharm": {
     "name": "#%% md\n"
    }
   },
   "source": [
    "__Решение:__"
   ]
  },
  {
   "cell_type": "code",
   "execution_count": 1,
   "id": "63cba85c-4589-4c88-8c07-6b246528ce44",
   "metadata": {
    "pycharm": {
     "name": "#%%\n"
    }
   },
   "outputs": [],
   "source": [
    "import matplotlib.pyplot as plt\n",
    "import random\n",
    "\n",
    "from matplotlib.colors import ListedColormap\n",
    "from sklearn.datasets import make_regression\n",
    "from sklearn.tree import DecisionTreeClassifier, DecisionTreeRegressor, plot_tree\n",
    "from sklearn.model_selection import train_test_split\n",
    "\n",
    "import numpy as np\n",
    "import pandas as pd\n",
    "\n",
    "import warnings\n",
    "warnings.filterwarnings('ignore')"
   ]
  },
  {
   "cell_type": "code",
   "execution_count": 2,
   "id": "061b9a76-98a0-4a49-8460-c1a7d1bf2680",
   "metadata": {
    "collapsed": false,
    "jupyter": {
     "outputs_hidden": false
    },
    "pycharm": {
     "name": "#%%\n"
    }
   },
   "outputs": [],
   "source": [
    "data, labels = make_regression(n_samples=1000, n_features=2, n_informative=2, n_targets=1, random_state=42)"
   ]
  },
  {
   "cell_type": "code",
   "execution_count": 3,
   "id": "04b7ece1-65dd-4bf7-b345-f8347496f127",
   "metadata": {
    "collapsed": false,
    "jupyter": {
     "outputs_hidden": false
    },
    "pycharm": {
     "name": "#%%\n"
    }
   },
   "outputs": [],
   "source": [
    "class Node:\n",
    "\n",
    "    def __init__(self, index, t, true_branch, false_branch):\n",
    "        self.index = index  # индекс признака, по которому ведется сравнение с порогом в этом узле\n",
    "        self.t = t  # значение порога\n",
    "        self.true_branch = true_branch  # поддерево, удовлетворяющее условию в узле\n",
    "        self.false_branch = false_branch  # поддерево, не удовлетворяющее условию в узле"
   ]
  },
  {
   "cell_type": "code",
   "execution_count": 4,
   "id": "ac9f612b-fa60-4832-b289-f1a579bfab6c",
   "metadata": {
    "collapsed": false,
    "jupyter": {
     "outputs_hidden": false
    },
    "pycharm": {
     "name": "#%%\n"
    }
   },
   "outputs": [],
   "source": [
    "class Leaf:\n",
    "\n",
    "    def __init__(self, data, labels):\n",
    "        self.data = data\n",
    "        self.labels = labels\n",
    "        self.prediction = self.predict()\n",
    "\n",
    "    def predict(self):\n",
    "        objects = []  # сформируем список объектов в листе\n",
    "        for label in self.labels:\n",
    "            objects.append(label)\n",
    "        #  найдем среднее\n",
    "        objects = np.array(objects)\n",
    "        prediction = objects.mean()\n",
    "        return prediction"
   ]
  },
  {
   "cell_type": "code",
   "execution_count": 5,
   "id": "5de87901-4dc5-4d82-9d62-71fcc7f05397",
   "metadata": {
    "collapsed": false,
    "jupyter": {
     "outputs_hidden": false
    },
    "pycharm": {
     "name": "#%%\n"
    }
   },
   "outputs": [],
   "source": [
    "def means(labels):\n",
    "    objects = []\n",
    "    for label in labels:\n",
    "        objects.append(label)\n",
    "    objects = np.array(objects)\n",
    "    prediction= objects.mean()\n",
    "    return np.mean((labels - prediction) ** 2)"
   ]
  },
  {
   "cell_type": "code",
   "execution_count": 6,
   "id": "67237aca-0332-4295-998d-800ba4f93593",
   "metadata": {
    "collapsed": false,
    "jupyter": {
     "outputs_hidden": false
    },
    "pycharm": {
     "name": "#%%\n"
    }
   },
   "outputs": [],
   "source": [
    "# Расчет прироста\n",
    "\n",
    "def gain(left_labels, right_labels, current_mean):\n",
    "\n",
    "    # доля выборки, ушедшая в левое поддерево\n",
    "    p = float(left_labels.shape[0] / (left_labels.shape[0] + right_labels.shape[0]))\n",
    "\n",
    "    return current_mean - p * means(left_labels) - (1 - p) * means(right_labels)"
   ]
  },
  {
   "cell_type": "code",
   "execution_count": 7,
   "id": "62aafcd5-68e5-4837-b702-bc57adf74e56",
   "metadata": {
    "collapsed": false,
    "jupyter": {
     "outputs_hidden": false
    },
    "pycharm": {
     "name": "#%%\n"
    }
   },
   "outputs": [],
   "source": [
    "# Разбиение датасета в узле\n",
    "\n",
    "def split(data, labels, index, t):\n",
    "\n",
    "    left = np.where(data[:, index] <= t)\n",
    "    right = np.where(data[:, index] > t)\n",
    "\n",
    "    true_data = data[left]\n",
    "    false_data = data[right]\n",
    "    true_labels = labels[left]\n",
    "    false_labels = labels[right]\n",
    "\n",
    "    return true_data, false_data, true_labels, false_labels"
   ]
  },
  {
   "cell_type": "code",
   "execution_count": 8,
   "id": "3f3fba61-45aa-4a3a-8207-041dc997fd36",
   "metadata": {
    "collapsed": false,
    "jupyter": {
     "outputs_hidden": false
    },
    "pycharm": {
     "name": "#%%\n"
    }
   },
   "outputs": [],
   "source": [
    "def find_best_split(data, labels):\n",
    "\n",
    "    #  обозначим минимальное количество объектов в узле\n",
    "    min_leaf = 5\n",
    "\n",
    "    current_mean = means(labels)\n",
    "\n",
    "    best_gain = 0\n",
    "    best_t = None\n",
    "    best_index = None\n",
    "\n",
    "    n_features = data.shape[1]\n",
    "\n",
    "    for index in range(n_features):\n",
    "        t_values = [row[index] for row in data]\n",
    "\n",
    "        for t in t_values:\n",
    "            true_data, false_data, true_labels, false_labels = split(data, labels, index, t)\n",
    "            #  пропускаем разбиения, в которых в узле остается менее 5 объектов\n",
    "            if len(true_data) < min_leaf or len(false_data) < min_leaf:\n",
    "                continue\n",
    "\n",
    "            current_gain = gain(true_labels, false_labels, current_mean)\n",
    "\n",
    "            #  выбираем порог, на котором получается максимальный прирост качества\n",
    "            if current_gain > best_gain:\n",
    "                best_gain, best_t, best_index = current_gain, t, index\n",
    "\n",
    "    return best_gain, best_t, best_index"
   ]
  },
  {
   "cell_type": "code",
   "execution_count": 9,
   "id": "eb116362-b65b-4994-b260-1daec32a5acb",
   "metadata": {
    "collapsed": false,
    "jupyter": {
     "outputs_hidden": false
    },
    "pycharm": {
     "name": "#%%\n"
    }
   },
   "outputs": [],
   "source": [
    "def build_tree(data, labels):\n",
    "\n",
    "    gain, t, index = find_best_split(data, labels)\n",
    "\n",
    "    #  Базовый случай - прекращаем рекурсию, когда нет прироста в качества\n",
    "    if gain == 0:\n",
    "        return Leaf(data, labels)\n",
    "\n",
    "    true_data, false_data, true_labels, false_labels = split(data, labels, index, t)\n",
    "\n",
    "    # Рекурсивно строим два поддерева\n",
    "    true_branch = build_tree(true_data, true_labels)\n",
    "    false_branch = build_tree(false_data, false_labels)\n",
    "\n",
    "    # Возвращаем класс узла со всеми поддеревьями, то есть целого дерева\n",
    "    return Node(index, t, true_branch, false_branch)"
   ]
  },
  {
   "cell_type": "code",
   "execution_count": 10,
   "id": "10fd4d61-91ba-459f-b551-7de6c3ea2c28",
   "metadata": {
    "collapsed": false,
    "jupyter": {
     "outputs_hidden": false
    },
    "pycharm": {
     "name": "#%%\n"
    }
   },
   "outputs": [],
   "source": [
    "def classify_object(obj, node):\n",
    "\n",
    "    #  Останавливаем рекурсию, если достигли листа\n",
    "    if isinstance(node, Leaf):\n",
    "        answer = node.prediction\n",
    "        return answer\n",
    "\n",
    "    if obj[node.index] <= node.t:\n",
    "        return classify_object(obj, node.true_branch)\n",
    "    else:\n",
    "        return classify_object(obj, node.false_branch)"
   ]
  },
  {
   "cell_type": "code",
   "execution_count": 11,
   "id": "9f97f9d5-3a84-43ce-bd05-63fbf9761257",
   "metadata": {
    "collapsed": false,
    "jupyter": {
     "outputs_hidden": false
    },
    "pycharm": {
     "name": "#%%\n"
    }
   },
   "outputs": [],
   "source": [
    "def predict(data, tree):\n",
    "\n",
    "    predictions = []\n",
    "    for obj in data:\n",
    "        prediction = classify_object(obj, tree)\n",
    "        predictions.append(prediction)\n",
    "    return predictions"
   ]
  },
  {
   "cell_type": "code",
   "execution_count": 12,
   "id": "6c1494a9-736a-40e5-9867-a63b4df710ce",
   "metadata": {
    "collapsed": false,
    "jupyter": {
     "outputs_hidden": false
    },
    "pycharm": {
     "name": "#%%\n"
    }
   },
   "outputs": [],
   "source": [
    "train_data, test_data, train_labels, test_labels = train_test_split(data, labels, test_size = 0.3, random_state = 1)"
   ]
  },
  {
   "cell_type": "code",
   "execution_count": 13,
   "id": "1095e4a7-1ff2-44c7-8bda-cd44ee829e8a",
   "metadata": {
    "pycharm": {
     "name": "#%%\n"
    },
    "tags": []
   },
   "outputs": [],
   "source": [
    "my_tree = build_tree(train_data, train_labels)"
   ]
  },
  {
   "cell_type": "code",
   "execution_count": 14,
   "id": "68d10b3e-bf84-4399-92fb-f954156971a4",
   "metadata": {
    "tags": []
   },
   "outputs": [
    {
     "name": "stdout",
     "output_type": "stream",
     "text": [
      "Индекс 1 <= -0.09858813228426173\n",
      "--> True:\n",
      "  Индекс 1 <= -0.9824873935383096\n",
      "  --> True:\n",
      "    Индекс 1 <= -1.801057734152739\n",
      "    --> True:\n",
      "      Индекс 1 <= -2.151815401329305\n",
      "      --> True:\n",
      "        Прогноз: -98.46277114648234\n",
      "      --> False:\n",
      "        Индекс 0 <= 0.18645431476942764\n",
      "        --> True:\n",
      "          Индекс 1 <= -2.025142586657607\n",
      "          --> True:\n",
      "            Прогноз: -87.18539957448927\n",
      "          --> False:\n",
      "            Прогноз: -80.18576651420238\n",
      "        --> False:\n",
      "          Прогноз: -73.10590088904706\n",
      "    --> False:\n",
      "      Индекс 1 <= -1.2899608997410539\n",
      "      --> True:\n",
      "        Индекс 0 <= 0.543360192379935\n",
      "        --> True:\n",
      "          Индекс 1 <= -1.448013900416244\n",
      "          --> True:\n",
      "            Индекс 0 <= -0.09833962679474989\n",
      "            --> True:\n",
      "              Прогноз: -69.62529384187478\n",
      "            --> False:\n",
      "              Прогноз: -62.99840659606071\n",
      "          --> False:\n",
      "            Прогноз: -62.28234319105414\n",
      "        --> False:\n",
      "          Индекс 1 <= -1.5566291735239037\n",
      "          --> True:\n",
      "            Прогноз: -59.64419505143581\n",
      "          --> False:\n",
      "            Прогноз: -52.13350785491706\n",
      "      --> False:\n",
      "        Индекс 0 <= -1.3204566130842763\n",
      "        --> True:\n",
      "          Прогноз: -60.07258129469447\n",
      "        --> False:\n",
      "          Индекс 0 <= 0.9178619470547761\n",
      "          --> True:\n",
      "            Индекс 0 <= -0.3164084496948019\n",
      "            --> True:\n",
      "              Индекс 1 <= -1.053682419146354\n",
      "              --> True:\n",
      "                Прогноз: -51.389844805695226\n",
      "              --> False:\n",
      "                Прогноз: -46.33220778569969\n",
      "            --> False:\n",
      "              Индекс 1 <= -1.141689114133505\n",
      "              --> True:\n",
      "                Индекс 0 <= 0.37569801834567196\n",
      "                --> True:\n",
      "                  Прогноз: -46.38897576297737\n",
      "                --> False:\n",
      "                  Прогноз: -45.450441171785336\n",
      "              --> False:\n",
      "                Индекс 0 <= 0.23924686411114954\n",
      "                --> True:\n",
      "                  Прогноз: -42.50663466033782\n",
      "                --> False:\n",
      "                  Прогноз: -39.763604393984274\n",
      "          --> False:\n",
      "            Прогноз: -35.434054662647114\n",
      "  --> False:\n",
      "    Индекс 1 <= -0.5621680265783021\n",
      "    --> True:\n",
      "      Индекс 0 <= -0.3092123758512146\n",
      "      --> True:\n",
      "        Индекс 1 <= -0.7043436905427592\n",
      "        --> True:\n",
      "          Индекс 1 <= -0.877982586756561\n",
      "          --> True:\n",
      "            Прогноз: -42.993045508175555\n",
      "          --> False:\n",
      "            Индекс 0 <= -1.244654703311417\n",
      "            --> True:\n",
      "              Прогноз: -39.404321883548484\n",
      "            --> False:\n",
      "              Прогноз: -36.30578998846614\n",
      "        --> False:\n",
      "          Индекс 0 <= -1.0147567306928669\n",
      "          --> True:\n",
      "            Прогноз: -34.50588467953831\n",
      "          --> False:\n",
      "            Прогноз: -29.758066298226282\n",
      "      --> False:\n",
      "        Индекс 1 <= -0.6800247215784908\n",
      "        --> True:\n",
      "          Индекс 0 <= 0.787084603742452\n",
      "          --> True:\n",
      "            Индекс 1 <= -0.898414671348358\n",
      "            --> True:\n",
      "              Прогноз: -35.62894371053592\n",
      "            --> False:\n",
      "              Индекс 0 <= 0.08614388304637476\n",
      "              --> True:\n",
      "                Прогноз: -31.660817974747676\n",
      "              --> False:\n",
      "                Индекс 1 <= -0.78489831308224\n",
      "                --> True:\n",
      "                  Прогноз: -29.599752816008778\n",
      "                --> False:\n",
      "                  Прогноз: -28.046451602352665\n",
      "          --> False:\n",
      "            Прогноз: -25.304580042229354\n",
      "        --> False:\n",
      "          Индекс 0 <= 1.0399046873960764\n",
      "          --> True:\n",
      "            Индекс 0 <= 0.026091050210833786\n",
      "            --> True:\n",
      "              Прогноз: -25.539656941685273\n",
      "            --> False:\n",
      "              Индекс 0 <= 0.6116762888408679\n",
      "              --> True:\n",
      "                Прогноз: -22.33896016947608\n",
      "              --> False:\n",
      "                Прогноз: -19.88196587682633\n",
      "          --> False:\n",
      "            Прогноз: -14.000647185343626\n",
      "    --> False:\n",
      "      Индекс 1 <= -0.30920907704986345\n",
      "      --> True:\n",
      "        Индекс 0 <= 0.39913611435207086\n",
      "        --> True:\n",
      "          Индекс 0 <= -0.46572975357025687\n",
      "          --> True:\n",
      "            Индекс 1 <= -0.39210815313215763\n",
      "            --> True:\n",
      "              Индекс 1 <= -0.4827435221820324\n",
      "              --> True:\n",
      "                Прогноз: -26.458641035748805\n",
      "              --> False:\n",
      "                Прогноз: -23.561865111435363\n",
      "            --> False:\n",
      "              Прогноз: -19.517534769117056\n",
      "          --> False:\n",
      "            Индекс 1 <= -0.47917423784528995\n",
      "            --> True:\n",
      "              Прогноз: -20.93273837217844\n",
      "            --> False:\n",
      "              Прогноз: -16.547900427455787\n",
      "        --> False:\n",
      "          Индекс 0 <= 1.088950596967366\n",
      "          --> True:\n",
      "            Индекс 1 <= -0.48943944251822213\n",
      "            --> True:\n",
      "              Прогноз: -16.035253611175364\n",
      "            --> False:\n",
      "              Прогноз: -11.479408911722254\n",
      "          --> False:\n",
      "            Прогноз: -8.933199823696876\n",
      "      --> False:\n",
      "        Индекс 0 <= -0.19634984908497827\n",
      "        --> True:\n",
      "          Индекс 1 <= -0.24606248812994858\n",
      "          --> True:\n",
      "            Прогноз: -16.146001585128193\n",
      "          --> False:\n",
      "            Индекс 0 <= -0.4930009346588328\n",
      "            --> True:\n",
      "              Индекс 0 <= -0.9039076414647897\n",
      "              --> True:\n",
      "                Прогноз: -12.537627058754406\n",
      "              --> False:\n",
      "                Прогноз: -12.664870936303691\n",
      "            --> False:\n",
      "              Прогноз: -10.543357687421713\n",
      "        --> False:\n",
      "          Индекс 0 <= 0.7796605322693398\n",
      "          --> True:\n",
      "            Индекс 1 <= -0.1340171666729177\n",
      "            --> True:\n",
      "              Индекс 1 <= -0.1973384203073261\n",
      "              --> True:\n",
      "                Прогноз: -7.707174511744488\n",
      "              --> False:\n",
      "                Прогноз: -6.5729375493083495\n",
      "            --> False:\n",
      "              Прогноз: -3.239254230310179\n",
      "          --> False:\n",
      "            Индекс 0 <= 1.2477420726737338\n",
      "            --> True:\n",
      "              Прогноз: -0.8474635828038822\n",
      "            --> False:\n",
      "              Прогноз: 2.4538000215188336\n",
      "--> False:\n",
      "  Индекс 1 <= 0.8712972974572442\n",
      "  --> True:\n",
      "    Индекс 1 <= 0.3436182895684614\n",
      "    --> True:\n",
      "      Индекс 0 <= 0.3411519748166439\n",
      "      --> True:\n",
      "        Индекс 1 <= 0.24196227156603412\n",
      "        --> True:\n",
      "          Индекс 0 <= -0.7280029412291344\n",
      "          --> True:\n",
      "            Индекс 1 <= 0.07863519031609059\n",
      "            --> True:\n",
      "              Индекс 0 <= -1.1583646891925428\n",
      "              --> True:\n",
      "                Прогноз: -9.498543221311209\n",
      "              --> False:\n",
      "                Прогноз: -5.710879293089745\n",
      "            --> False:\n",
      "              Индекс 1 <= 0.169360824036078\n",
      "              --> True:\n",
      "                Прогноз: -3.7799743030270854\n",
      "              --> False:\n",
      "                Прогноз: -1.7926612079931985\n",
      "          --> False:\n",
      "            Индекс 1 <= 0.045571839903813784\n",
      "            --> True:\n",
      "              Индекс 0 <= -0.2081168572725397\n",
      "              --> True:\n",
      "                Прогноз: -3.047121729198128\n",
      "              --> False:\n",
      "                Индекс 1 <= -0.045586016355497805\n",
      "                --> True:\n",
      "                  Прогноз: -1.1876053428957576\n",
      "                --> False:\n",
      "                  Прогноз: 0.8649211895057398\n",
      "            --> False:\n",
      "              Индекс 1 <= 0.14866745720211155\n",
      "              --> True:\n",
      "                Индекс 0 <= -0.15567723539207948\n",
      "                --> True:\n",
      "                  Прогноз: 1.634850659893304\n",
      "                --> False:\n",
      "                  Прогноз: 3.82184462238132\n",
      "              --> False:\n",
      "                Прогноз: 6.203436606557145\n",
      "        --> False:\n",
      "          Индекс 0 <= -0.5640786307367284\n",
      "          --> True:\n",
      "            Индекс 0 <= -0.9043166251044086\n",
      "            --> True:\n",
      "              Прогноз: 3.78764954005176\n",
      "            --> False:\n",
      "              Прогноз: 7.312641394174996\n",
      "          --> False:\n",
      "            Индекс 0 <= -0.25890497370407733\n",
      "            --> True:\n",
      "              Прогноз: 10.33186749049622\n",
      "            --> False:\n",
      "              Прогноз: 12.660331553800786\n",
      "      --> False:\n",
      "        Индекс 1 <= 0.12320480678448567\n",
      "        --> True:\n",
      "          Индекс 0 <= 1.4799441388900259\n",
      "          --> True:\n",
      "            Индекс 1 <= -0.015309849172995557\n",
      "            --> True:\n",
      "              Индекс 0 <= 1.0035328978920242\n",
      "              --> True:\n",
      "                Прогноз: 2.834205165038949\n",
      "              --> False:\n",
      "                Прогноз: 5.902276958476321\n",
      "            --> False:\n",
      "              Индекс 0 <= 0.8527736751222195\n",
      "              --> True:\n",
      "                Индекс 1 <= 0.09699596499271819\n",
      "                --> True:\n",
      "                  Прогноз: 6.698476687580924\n",
      "                --> False:\n",
      "                  Прогноз: 8.79241434853227\n",
      "              --> False:\n",
      "                Прогноз: 9.953443712895835\n",
      "          --> False:\n",
      "            Прогноз: 13.37033066090461\n",
      "        --> False:\n",
      "          Индекс 0 <= 1.3920022863445993\n",
      "          --> True:\n",
      "            Индекс 0 <= 0.7708651938869668\n",
      "            --> True:\n",
      "              Прогноз: 13.010535613759847\n",
      "            --> False:\n",
      "              Индекс 1 <= 0.22468472575188592\n",
      "              --> True:\n",
      "                Прогноз: 15.516553207643378\n",
      "              --> False:\n",
      "                Прогноз: 18.43434788600096\n",
      "          --> False:\n",
      "            Прогноз: 24.233530760035297\n",
      "    --> False:\n",
      "      Индекс 0 <= 0.0064222698109378164\n",
      "      --> True:\n",
      "        Индекс 1 <= 0.6523228784134196\n",
      "        --> True:\n",
      "          Индекс 0 <= -0.5020542243526112\n",
      "          --> True:\n",
      "            Индекс 1 <= 0.5935567222808619\n",
      "            --> True:\n",
      "              Индекс 0 <= -0.9206735930793662\n",
      "              --> True:\n",
      "                Прогноз: 10.266242901356504\n",
      "              --> False:\n",
      "                Прогноз: 13.702542964173597\n",
      "            --> False:\n",
      "              Прогноз: 17.02686863345765\n",
      "          --> False:\n",
      "            Индекс 1 <= 0.46642998243352635\n",
      "            --> True:\n",
      "              Прогноз: 15.76409395719017\n",
      "            --> False:\n",
      "              Индекс 1 <= 0.5462842480036996\n",
      "              --> True:\n",
      "                Прогноз: 19.847084967749883\n",
      "              --> False:\n",
      "                Прогноз: 21.37135456410563\n",
      "        --> False:\n",
      "          Индекс 0 <= -1.1246420918378692\n",
      "          --> True:\n",
      "            Прогноз: 23.080948171844113\n",
      "          --> False:\n",
      "            Индекс 1 <= 0.7223813578277714\n",
      "            --> True:\n",
      "              Прогноз: 25.99096411540621\n",
      "            --> False:\n",
      "              Прогноз: 29.087344533608228\n",
      "      --> False:\n",
      "        Индекс 1 <= 0.5796331732135757\n",
      "        --> True:\n",
      "          Индекс 0 <= 0.9039348410861953\n",
      "          --> True:\n",
      "            Индекс 1 <= 0.42881650033057295\n",
      "            --> True:\n",
      "              Прогноз: 19.139932971383843\n",
      "            --> False:\n",
      "              Индекс 0 <= 0.29698467323318606\n",
      "              --> True:\n",
      "                Прогноз: 22.336771220127485\n",
      "              --> False:\n",
      "                Прогноз: 25.119201529614323\n",
      "          --> False:\n",
      "            Индекс 1 <= 0.5112025995249807\n",
      "            --> True:\n",
      "              Прогноз: 28.767344280280042\n",
      "            --> False:\n",
      "              Прогноз: 34.51620988526771\n",
      "        --> False:\n",
      "          Индекс 0 <= 1.173473857485325\n",
      "          --> True:\n",
      "            Индекс 1 <= 0.7589285897867651\n",
      "            --> True:\n",
      "              Индекс 1 <= 0.655900776529761\n",
      "              --> True:\n",
      "                Прогноз: 29.429486929810842\n",
      "              --> False:\n",
      "                Индекс 0 <= 0.5161782871149584\n",
      "                --> True:\n",
      "                  Прогноз: 31.904110994161652\n",
      "                --> False:\n",
      "                  Прогноз: 34.6245654398824\n",
      "            --> False:\n",
      "              Прогноз: 36.98193374527999\n",
      "          --> False:\n",
      "            Прогноз: 38.6184673039216\n",
      "  --> False:\n",
      "    Индекс 1 <= 1.465648768921554\n",
      "    --> True:\n",
      "      Индекс 1 <= 1.0584244868495878\n",
      "      --> True:\n",
      "        Индекс 0 <= 0.18334200573835174\n",
      "        --> True:\n",
      "          Индекс 0 <= -0.8031789506803448\n",
      "          --> True:\n",
      "            Прогноз: 30.289015701597272\n",
      "          --> False:\n",
      "            Индекс 1 <= 0.9960476858058164\n",
      "            --> True:\n",
      "              Прогноз: 36.49362593554957\n",
      "            --> False:\n",
      "              Прогноз: 37.77095709599584\n",
      "        --> False:\n",
      "          Индекс 0 <= 0.513085420097293\n",
      "          --> True:\n",
      "            Прогноз: 42.32209548362573\n",
      "          --> False:\n",
      "            Прогноз: 48.079775649922254\n",
      "      --> False:\n",
      "        Индекс 0 <= 0.14171691363990474\n",
      "        --> True:\n",
      "          Индекс 1 <= 1.2669111491866227\n",
      "          --> True:\n",
      "            Индекс 0 <= -0.8206823183517105\n",
      "            --> True:\n",
      "              Прогноз: 40.46931868643248\n",
      "            --> False:\n",
      "              Индекс 1 <= 1.179440120721287\n",
      "              --> True:\n",
      "                Прогноз: 44.185452001883064\n",
      "              --> False:\n",
      "                Прогноз: 47.15279380603513\n",
      "          --> False:\n",
      "            Прогноз: 52.888299062667556\n",
      "        --> False:\n",
      "          Индекс 1 <= 1.185704154662997\n",
      "          --> True:\n",
      "            Прогноз: 51.472319648453954\n",
      "          --> False:\n",
      "            Индекс 0 <= 0.6487098875896427\n",
      "            --> True:\n",
      "              Прогноз: 58.42547598705123\n",
      "            --> False:\n",
      "              Прогноз: 60.89555285401824\n",
      "    --> False:\n",
      "      Индекс 1 <= 1.7275431701007113\n",
      "      --> True:\n",
      "        Индекс 0 <= 0.11567463429285867\n",
      "        --> True:\n",
      "          Индекс 0 <= -0.5182702182736474\n",
      "          --> True:\n",
      "            Прогноз: 58.88181281494015\n",
      "          --> False:\n",
      "            Прогноз: 63.251279604432376\n",
      "        --> False:\n",
      "          Индекс 1 <= 1.5231240772696573\n",
      "          --> True:\n",
      "            Прогноз: 66.85361271073148\n",
      "          --> False:\n",
      "            Прогноз: 71.49280232355493\n",
      "      --> False:\n",
      "        Индекс 1 <= 2.3146585666735087\n",
      "        --> True:\n",
      "          Индекс 1 <= 2.062524919243145\n",
      "          --> True:\n",
      "            Прогноз: 79.82001946952288\n",
      "          --> False:\n",
      "            Прогноз: 84.81477104435702\n",
      "        --> False:\n",
      "          Прогноз: 99.88518995513432\n"
     ]
    }
   ],
   "source": [
    "# Напечатаем ход нашего дерева\n",
    "\n",
    "def print_tree(node, spacing=''):\n",
    "    # Если лист, то выводим его прогноз\n",
    "    if isinstance(node, Leaf):\n",
    "        print(spacing + 'Прогноз:', node.prediction)\n",
    "        return\n",
    "\n",
    "    # Выведем значение индекса и порога на этом узле\n",
    "    print(spacing + 'Индекс', str(node.index), '<=', str(node.t))\n",
    "\n",
    "    # Рекурсионный вызов функции на положительном поддереве\n",
    "    print(spacing + '--> True:')\n",
    "    print_tree(node.true_branch, spacing + '  ')\n",
    "\n",
    "    # Рекурсионный вызов функции на отрицательном поддереве\n",
    "    print(spacing + '--> False:')\n",
    "    print_tree(node.false_branch, spacing + \"  \")\n",
    "\n",
    "print_tree(my_tree)"
   ]
  },
  {
   "cell_type": "code",
   "execution_count": 15,
   "id": "a390cdfe-a508-45ff-91f0-661b0339b56a",
   "metadata": {},
   "outputs": [],
   "source": [
    "# Получим ответы для обучающей выборки\n",
    "train_answers = predict(train_data, my_tree)"
   ]
  },
  {
   "cell_type": "code",
   "execution_count": 16,
   "id": "761a3312-2b2f-4d02-994a-0814604fd257",
   "metadata": {},
   "outputs": [],
   "source": [
    "# И получим ответы для тестовой выборки\n",
    "answers = predict(test_data, my_tree)"
   ]
  },
  {
   "cell_type": "code",
   "execution_count": 17,
   "id": "9f8e0fcf-477c-4001-9bf7-4e806b25cf88",
   "metadata": {
    "collapsed": false,
    "jupyter": {
     "outputs_hidden": false
    },
    "pycharm": {
     "name": "#%%\n"
    }
   },
   "outputs": [],
   "source": [
    "def mse_(labels, res):\n",
    "    return np.mean((labels - res) ** 2)"
   ]
  },
  {
   "cell_type": "code",
   "execution_count": 18,
   "id": "35c2b27d-814f-4bce-80ff-9f76e9b403a4",
   "metadata": {
    "collapsed": false,
    "jupyter": {
     "outputs_hidden": false
    },
    "pycharm": {
     "name": "#%%\n"
    }
   },
   "outputs": [
    {
     "data": {
      "text/plain": [
       "5.491969205319535"
      ]
     },
     "execution_count": 18,
     "metadata": {},
     "output_type": "execute_result"
    }
   ],
   "source": [
    "train_mse = mse_(train_labels, train_answers)\n",
    "train_mse"
   ]
  },
  {
   "cell_type": "code",
   "execution_count": 19,
   "id": "cd3ebb28-e513-4584-a4f4-3f07f1a28698",
   "metadata": {
    "collapsed": false,
    "jupyter": {
     "outputs_hidden": false
    },
    "pycharm": {
     "name": "#%%\n"
    }
   },
   "outputs": [
    {
     "data": {
      "text/plain": [
       "26.046179994641875"
      ]
     },
     "execution_count": 19,
     "metadata": {},
     "output_type": "execute_result"
    }
   ],
   "source": [
    "test_mse = mse_(test_labels, answers)\n",
    "test_mse"
   ]
  },
  {
   "cell_type": "code",
   "execution_count": 20,
   "id": "5e7c544c-25d9-452d-a088-c17a46b47a77",
   "metadata": {
    "collapsed": false,
    "jupyter": {
     "outputs_hidden": false
    },
    "pycharm": {
     "name": "#%%\n"
    }
   },
   "outputs": [],
   "source": [
    "# Проверим точность модели с помощью метрики R2\n",
    "\n",
    "def r_2(labels, res):\n",
    "    return (1 - np.sum((res - labels) ** 2) / np.sum((labels - np.mean(labels))**2))"
   ]
  },
  {
   "cell_type": "code",
   "execution_count": 21,
   "id": "ec18a872-9e21-44ed-833f-afdaad11b929",
   "metadata": {
    "collapsed": false,
    "jupyter": {
     "outputs_hidden": false
    },
    "pycharm": {
     "name": "#%%\n"
    }
   },
   "outputs": [
    {
     "data": {
      "text/plain": [
       "0.9962795640198564"
      ]
     },
     "execution_count": 21,
     "metadata": {},
     "output_type": "execute_result"
    }
   ],
   "source": [
    "r_2(train_labels, train_answers)"
   ]
  },
  {
   "cell_type": "code",
   "execution_count": 22,
   "id": "a6420753-6da1-4d44-989b-67a56c88354d",
   "metadata": {
    "collapsed": false,
    "jupyter": {
     "outputs_hidden": false
    },
    "pycharm": {
     "name": "#%%\n"
    }
   },
   "outputs": [
    {
     "data": {
      "text/plain": [
       "0.985596370864998"
      ]
     },
     "execution_count": 22,
     "metadata": {},
     "output_type": "execute_result"
    }
   ],
   "source": [
    "r_2(test_labels, answers)"
   ]
  },
  {
   "cell_type": "code",
   "execution_count": null,
   "id": "2d55d748-ce17-4c93-970a-91764124b74f",
   "metadata": {},
   "outputs": [],
   "source": []
  }
 ],
 "metadata": {
  "kernelspec": {
   "display_name": "Python 3 (ipykernel)",
   "language": "python",
   "name": "python3"
  },
  "language_info": {
   "codemirror_mode": {
    "name": "ipython",
    "version": 3
   },
   "file_extension": ".py",
   "mimetype": "text/x-python",
   "name": "python",
   "nbconvert_exporter": "python",
   "pygments_lexer": "ipython3",
   "version": "3.9.12"
  }
 },
 "nbformat": 4,
 "nbformat_minor": 5
}
